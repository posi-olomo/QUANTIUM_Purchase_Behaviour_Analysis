{
  "cells": [
    {
      "cell_type": "markdown",
      "source": [
        "#### Import Important Modules"
      ],
      "metadata": {
        "id": "QVddA6-V8W_y"
      }
    },
    {
      "cell_type": "code",
      "execution_count": 81,
      "metadata": {
        "colab": {
          "base_uri": "https://localhost:8080/"
        },
        "id": "y2m-6tQpfYIg",
        "outputId": "a21776c1-1cf5-4155-af25-b27241d145e8"
      },
      "outputs": [
        {
          "output_type": "stream",
          "name": "stdout",
          "text": [
            "Drive already mounted at /content/drive; to attempt to forcibly remount, call drive.mount(\"/content/drive\", force_remount=True).\n"
          ]
        }
      ],
      "source": [
        "import pandas as pd\n",
        "import seaborn as sns\n",
        "import matplotlib.pyplot as plt\n",
        "import numpy as np\n",
        "from google.colab import drive\n",
        "drive.mount('/content/drive')"
      ]
    },
    {
      "cell_type": "code",
      "execution_count": 82,
      "metadata": {
        "id": "y4iZTGpvipFk"
      },
      "outputs": [],
      "source": [
        "#Install the necessary modules and packages\n",
        "#!pip install wordcloud\n",
        "from wordcloud import WordCloud,STOPWORDS  #Be VERY CAREFUL, it is \"WordCloud\" and not \"wordcloud\" after the import functioin\n",
        "import re                                  #useful in cleaning and modifying text data"
      ]
    },
    {
      "cell_type": "markdown",
      "metadata": {
        "id": "RVAb-IY_RXR0"
      },
      "source": [
        "#### Load the dataframes"
      ]
    },
    {
      "cell_type": "code",
      "execution_count": 83,
      "metadata": {
        "colab": {
          "base_uri": "https://localhost:8080/",
          "height": 206
        },
        "id": "5-WyLucFd_62",
        "outputId": "544a3796-1379-4580-d14a-601cb3febd5c"
      },
      "outputs": [
        {
          "output_type": "execute_result",
          "data": {
            "text/plain": [
              "   LYLTY_CARD_NBR               LIFESTAGE PREMIUM_CUSTOMER\n",
              "0            1000   YOUNG SINGLES/COUPLES          Premium\n",
              "1            1002   YOUNG SINGLES/COUPLES       Mainstream\n",
              "2            1003          YOUNG FAMILIES           Budget\n",
              "3            1004   OLDER SINGLES/COUPLES       Mainstream\n",
              "4            1005  MIDAGE SINGLES/COUPLES       Mainstream"
            ],
            "text/html": [
              "\n",
              "  <div id=\"df-085903a3-dd47-4d0c-bda4-b67451891a5f\">\n",
              "    <div class=\"colab-df-container\">\n",
              "      <div>\n",
              "<style scoped>\n",
              "    .dataframe tbody tr th:only-of-type {\n",
              "        vertical-align: middle;\n",
              "    }\n",
              "\n",
              "    .dataframe tbody tr th {\n",
              "        vertical-align: top;\n",
              "    }\n",
              "\n",
              "    .dataframe thead th {\n",
              "        text-align: right;\n",
              "    }\n",
              "</style>\n",
              "<table border=\"1\" class=\"dataframe\">\n",
              "  <thead>\n",
              "    <tr style=\"text-align: right;\">\n",
              "      <th></th>\n",
              "      <th>LYLTY_CARD_NBR</th>\n",
              "      <th>LIFESTAGE</th>\n",
              "      <th>PREMIUM_CUSTOMER</th>\n",
              "    </tr>\n",
              "  </thead>\n",
              "  <tbody>\n",
              "    <tr>\n",
              "      <th>0</th>\n",
              "      <td>1000</td>\n",
              "      <td>YOUNG SINGLES/COUPLES</td>\n",
              "      <td>Premium</td>\n",
              "    </tr>\n",
              "    <tr>\n",
              "      <th>1</th>\n",
              "      <td>1002</td>\n",
              "      <td>YOUNG SINGLES/COUPLES</td>\n",
              "      <td>Mainstream</td>\n",
              "    </tr>\n",
              "    <tr>\n",
              "      <th>2</th>\n",
              "      <td>1003</td>\n",
              "      <td>YOUNG FAMILIES</td>\n",
              "      <td>Budget</td>\n",
              "    </tr>\n",
              "    <tr>\n",
              "      <th>3</th>\n",
              "      <td>1004</td>\n",
              "      <td>OLDER SINGLES/COUPLES</td>\n",
              "      <td>Mainstream</td>\n",
              "    </tr>\n",
              "    <tr>\n",
              "      <th>4</th>\n",
              "      <td>1005</td>\n",
              "      <td>MIDAGE SINGLES/COUPLES</td>\n",
              "      <td>Mainstream</td>\n",
              "    </tr>\n",
              "  </tbody>\n",
              "</table>\n",
              "</div>\n",
              "      <button class=\"colab-df-convert\" onclick=\"convertToInteractive('df-085903a3-dd47-4d0c-bda4-b67451891a5f')\"\n",
              "              title=\"Convert this dataframe to an interactive table.\"\n",
              "              style=\"display:none;\">\n",
              "        \n",
              "  <svg xmlns=\"http://www.w3.org/2000/svg\" height=\"24px\"viewBox=\"0 0 24 24\"\n",
              "       width=\"24px\">\n",
              "    <path d=\"M0 0h24v24H0V0z\" fill=\"none\"/>\n",
              "    <path d=\"M18.56 5.44l.94 2.06.94-2.06 2.06-.94-2.06-.94-.94-2.06-.94 2.06-2.06.94zm-11 1L8.5 8.5l.94-2.06 2.06-.94-2.06-.94L8.5 2.5l-.94 2.06-2.06.94zm10 10l.94 2.06.94-2.06 2.06-.94-2.06-.94-.94-2.06-.94 2.06-2.06.94z\"/><path d=\"M17.41 7.96l-1.37-1.37c-.4-.4-.92-.59-1.43-.59-.52 0-1.04.2-1.43.59L10.3 9.45l-7.72 7.72c-.78.78-.78 2.05 0 2.83L4 21.41c.39.39.9.59 1.41.59.51 0 1.02-.2 1.41-.59l7.78-7.78 2.81-2.81c.8-.78.8-2.07 0-2.86zM5.41 20L4 18.59l7.72-7.72 1.47 1.35L5.41 20z\"/>\n",
              "  </svg>\n",
              "      </button>\n",
              "      \n",
              "  <style>\n",
              "    .colab-df-container {\n",
              "      display:flex;\n",
              "      flex-wrap:wrap;\n",
              "      gap: 12px;\n",
              "    }\n",
              "\n",
              "    .colab-df-convert {\n",
              "      background-color: #E8F0FE;\n",
              "      border: none;\n",
              "      border-radius: 50%;\n",
              "      cursor: pointer;\n",
              "      display: none;\n",
              "      fill: #1967D2;\n",
              "      height: 32px;\n",
              "      padding: 0 0 0 0;\n",
              "      width: 32px;\n",
              "    }\n",
              "\n",
              "    .colab-df-convert:hover {\n",
              "      background-color: #E2EBFA;\n",
              "      box-shadow: 0px 1px 2px rgba(60, 64, 67, 0.3), 0px 1px 3px 1px rgba(60, 64, 67, 0.15);\n",
              "      fill: #174EA6;\n",
              "    }\n",
              "\n",
              "    [theme=dark] .colab-df-convert {\n",
              "      background-color: #3B4455;\n",
              "      fill: #D2E3FC;\n",
              "    }\n",
              "\n",
              "    [theme=dark] .colab-df-convert:hover {\n",
              "      background-color: #434B5C;\n",
              "      box-shadow: 0px 1px 3px 1px rgba(0, 0, 0, 0.15);\n",
              "      filter: drop-shadow(0px 1px 2px rgba(0, 0, 0, 0.3));\n",
              "      fill: #FFFFFF;\n",
              "    }\n",
              "  </style>\n",
              "\n",
              "      <script>\n",
              "        const buttonEl =\n",
              "          document.querySelector('#df-085903a3-dd47-4d0c-bda4-b67451891a5f button.colab-df-convert');\n",
              "        buttonEl.style.display =\n",
              "          google.colab.kernel.accessAllowed ? 'block' : 'none';\n",
              "\n",
              "        async function convertToInteractive(key) {\n",
              "          const element = document.querySelector('#df-085903a3-dd47-4d0c-bda4-b67451891a5f');\n",
              "          const dataTable =\n",
              "            await google.colab.kernel.invokeFunction('convertToInteractive',\n",
              "                                                     [key], {});\n",
              "          if (!dataTable) return;\n",
              "\n",
              "          const docLinkHtml = 'Like what you see? Visit the ' +\n",
              "            '<a target=\"_blank\" href=https://colab.research.google.com/notebooks/data_table.ipynb>data table notebook</a>'\n",
              "            + ' to learn more about interactive tables.';\n",
              "          element.innerHTML = '';\n",
              "          dataTable['output_type'] = 'display_data';\n",
              "          await google.colab.output.renderOutput(dataTable, element);\n",
              "          const docLink = document.createElement('div');\n",
              "          docLink.innerHTML = docLinkHtml;\n",
              "          element.appendChild(docLink);\n",
              "        }\n",
              "      </script>\n",
              "    </div>\n",
              "  </div>\n",
              "  "
            ]
          },
          "metadata": {},
          "execution_count": 83
        }
      ],
      "source": [
        "df_p = pd.read_csv(\"/content/drive/My Drive/QVI_purchase_behaviour.csv\")\n",
        "df_p.head()"
      ]
    },
    {
      "cell_type": "code",
      "execution_count": 84,
      "metadata": {
        "colab": {
          "base_uri": "https://localhost:8080/",
          "height": 206
        },
        "id": "oAdbikBHfw0C",
        "outputId": "8bfbe9c4-a0e6-46ae-94f7-7ec8e8de797c"
      },
      "outputs": [
        {
          "output_type": "execute_result",
          "data": {
            "text/plain": [
              "    DATE  STORE_NBR  LYLTY_CARD_NBR  TXN_ID  PROD_NBR  \\\n",
              "0  43390          1            1000       1         5   \n",
              "1  43599          1            1307     348        66   \n",
              "2  43605          1            1343     383        61   \n",
              "3  43329          2            2373     974        69   \n",
              "4  43330          2            2426    1038       108   \n",
              "\n",
              "                                  PROD_NAME  PROD_QTY  TOT_SALES  \n",
              "0    Natural Chip        Compny SeaSalt175g         2        6.0  \n",
              "1                  CCs Nacho Cheese    175g         3        6.3  \n",
              "2    Smiths Crinkle Cut  Chips Chicken 170g         2        2.9  \n",
              "3    Smiths Chip Thinly  S/Cream&Onion 175g         5       15.0  \n",
              "4  Kettle Tortilla ChpsHny&Jlpno Chili 150g         3       13.8  "
            ],
            "text/html": [
              "\n",
              "  <div id=\"df-a474b0ca-2b03-44df-a9e4-9d18755851ba\">\n",
              "    <div class=\"colab-df-container\">\n",
              "      <div>\n",
              "<style scoped>\n",
              "    .dataframe tbody tr th:only-of-type {\n",
              "        vertical-align: middle;\n",
              "    }\n",
              "\n",
              "    .dataframe tbody tr th {\n",
              "        vertical-align: top;\n",
              "    }\n",
              "\n",
              "    .dataframe thead th {\n",
              "        text-align: right;\n",
              "    }\n",
              "</style>\n",
              "<table border=\"1\" class=\"dataframe\">\n",
              "  <thead>\n",
              "    <tr style=\"text-align: right;\">\n",
              "      <th></th>\n",
              "      <th>DATE</th>\n",
              "      <th>STORE_NBR</th>\n",
              "      <th>LYLTY_CARD_NBR</th>\n",
              "      <th>TXN_ID</th>\n",
              "      <th>PROD_NBR</th>\n",
              "      <th>PROD_NAME</th>\n",
              "      <th>PROD_QTY</th>\n",
              "      <th>TOT_SALES</th>\n",
              "    </tr>\n",
              "  </thead>\n",
              "  <tbody>\n",
              "    <tr>\n",
              "      <th>0</th>\n",
              "      <td>43390</td>\n",
              "      <td>1</td>\n",
              "      <td>1000</td>\n",
              "      <td>1</td>\n",
              "      <td>5</td>\n",
              "      <td>Natural Chip        Compny SeaSalt175g</td>\n",
              "      <td>2</td>\n",
              "      <td>6.0</td>\n",
              "    </tr>\n",
              "    <tr>\n",
              "      <th>1</th>\n",
              "      <td>43599</td>\n",
              "      <td>1</td>\n",
              "      <td>1307</td>\n",
              "      <td>348</td>\n",
              "      <td>66</td>\n",
              "      <td>CCs Nacho Cheese    175g</td>\n",
              "      <td>3</td>\n",
              "      <td>6.3</td>\n",
              "    </tr>\n",
              "    <tr>\n",
              "      <th>2</th>\n",
              "      <td>43605</td>\n",
              "      <td>1</td>\n",
              "      <td>1343</td>\n",
              "      <td>383</td>\n",
              "      <td>61</td>\n",
              "      <td>Smiths Crinkle Cut  Chips Chicken 170g</td>\n",
              "      <td>2</td>\n",
              "      <td>2.9</td>\n",
              "    </tr>\n",
              "    <tr>\n",
              "      <th>3</th>\n",
              "      <td>43329</td>\n",
              "      <td>2</td>\n",
              "      <td>2373</td>\n",
              "      <td>974</td>\n",
              "      <td>69</td>\n",
              "      <td>Smiths Chip Thinly  S/Cream&amp;Onion 175g</td>\n",
              "      <td>5</td>\n",
              "      <td>15.0</td>\n",
              "    </tr>\n",
              "    <tr>\n",
              "      <th>4</th>\n",
              "      <td>43330</td>\n",
              "      <td>2</td>\n",
              "      <td>2426</td>\n",
              "      <td>1038</td>\n",
              "      <td>108</td>\n",
              "      <td>Kettle Tortilla ChpsHny&amp;Jlpno Chili 150g</td>\n",
              "      <td>3</td>\n",
              "      <td>13.8</td>\n",
              "    </tr>\n",
              "  </tbody>\n",
              "</table>\n",
              "</div>\n",
              "      <button class=\"colab-df-convert\" onclick=\"convertToInteractive('df-a474b0ca-2b03-44df-a9e4-9d18755851ba')\"\n",
              "              title=\"Convert this dataframe to an interactive table.\"\n",
              "              style=\"display:none;\">\n",
              "        \n",
              "  <svg xmlns=\"http://www.w3.org/2000/svg\" height=\"24px\"viewBox=\"0 0 24 24\"\n",
              "       width=\"24px\">\n",
              "    <path d=\"M0 0h24v24H0V0z\" fill=\"none\"/>\n",
              "    <path d=\"M18.56 5.44l.94 2.06.94-2.06 2.06-.94-2.06-.94-.94-2.06-.94 2.06-2.06.94zm-11 1L8.5 8.5l.94-2.06 2.06-.94-2.06-.94L8.5 2.5l-.94 2.06-2.06.94zm10 10l.94 2.06.94-2.06 2.06-.94-2.06-.94-.94-2.06-.94 2.06-2.06.94z\"/><path d=\"M17.41 7.96l-1.37-1.37c-.4-.4-.92-.59-1.43-.59-.52 0-1.04.2-1.43.59L10.3 9.45l-7.72 7.72c-.78.78-.78 2.05 0 2.83L4 21.41c.39.39.9.59 1.41.59.51 0 1.02-.2 1.41-.59l7.78-7.78 2.81-2.81c.8-.78.8-2.07 0-2.86zM5.41 20L4 18.59l7.72-7.72 1.47 1.35L5.41 20z\"/>\n",
              "  </svg>\n",
              "      </button>\n",
              "      \n",
              "  <style>\n",
              "    .colab-df-container {\n",
              "      display:flex;\n",
              "      flex-wrap:wrap;\n",
              "      gap: 12px;\n",
              "    }\n",
              "\n",
              "    .colab-df-convert {\n",
              "      background-color: #E8F0FE;\n",
              "      border: none;\n",
              "      border-radius: 50%;\n",
              "      cursor: pointer;\n",
              "      display: none;\n",
              "      fill: #1967D2;\n",
              "      height: 32px;\n",
              "      padding: 0 0 0 0;\n",
              "      width: 32px;\n",
              "    }\n",
              "\n",
              "    .colab-df-convert:hover {\n",
              "      background-color: #E2EBFA;\n",
              "      box-shadow: 0px 1px 2px rgba(60, 64, 67, 0.3), 0px 1px 3px 1px rgba(60, 64, 67, 0.15);\n",
              "      fill: #174EA6;\n",
              "    }\n",
              "\n",
              "    [theme=dark] .colab-df-convert {\n",
              "      background-color: #3B4455;\n",
              "      fill: #D2E3FC;\n",
              "    }\n",
              "\n",
              "    [theme=dark] .colab-df-convert:hover {\n",
              "      background-color: #434B5C;\n",
              "      box-shadow: 0px 1px 3px 1px rgba(0, 0, 0, 0.15);\n",
              "      filter: drop-shadow(0px 1px 2px rgba(0, 0, 0, 0.3));\n",
              "      fill: #FFFFFF;\n",
              "    }\n",
              "  </style>\n",
              "\n",
              "      <script>\n",
              "        const buttonEl =\n",
              "          document.querySelector('#df-a474b0ca-2b03-44df-a9e4-9d18755851ba button.colab-df-convert');\n",
              "        buttonEl.style.display =\n",
              "          google.colab.kernel.accessAllowed ? 'block' : 'none';\n",
              "\n",
              "        async function convertToInteractive(key) {\n",
              "          const element = document.querySelector('#df-a474b0ca-2b03-44df-a9e4-9d18755851ba');\n",
              "          const dataTable =\n",
              "            await google.colab.kernel.invokeFunction('convertToInteractive',\n",
              "                                                     [key], {});\n",
              "          if (!dataTable) return;\n",
              "\n",
              "          const docLinkHtml = 'Like what you see? Visit the ' +\n",
              "            '<a target=\"_blank\" href=https://colab.research.google.com/notebooks/data_table.ipynb>data table notebook</a>'\n",
              "            + ' to learn more about interactive tables.';\n",
              "          element.innerHTML = '';\n",
              "          dataTable['output_type'] = 'display_data';\n",
              "          await google.colab.output.renderOutput(dataTable, element);\n",
              "          const docLink = document.createElement('div');\n",
              "          docLink.innerHTML = docLinkHtml;\n",
              "          element.appendChild(docLink);\n",
              "        }\n",
              "      </script>\n",
              "    </div>\n",
              "  </div>\n",
              "  "
            ]
          },
          "metadata": {},
          "execution_count": 84
        }
      ],
      "source": [
        "df_t = pd.read_csv(\"/content/drive/My Drive/QVI_transaction_data.csv\")\n",
        "df_t.head()"
      ]
    },
    {
      "cell_type": "markdown",
      "metadata": {
        "id": "oUViHJsFRRNR"
      },
      "source": [
        "#### Let's check for missing data"
      ]
    },
    {
      "cell_type": "code",
      "source": [
        "print(\"df_t.shape\",\"\\n\" ,df_t.shape, \"\\n\")\n",
        "print(\"df_p.shape\",\"\\n\" ,df_p.shape, \"\\n\")"
      ],
      "metadata": {
        "colab": {
          "base_uri": "https://localhost:8080/"
        },
        "id": "S57pNNIglWgI",
        "outputId": "4f35da47-3c6e-4f2b-dbe2-4521ba643b04"
      },
      "execution_count": 85,
      "outputs": [
        {
          "output_type": "stream",
          "name": "stdout",
          "text": [
            "df_t.shape \n",
            " (264836, 8) \n",
            "\n",
            "df_p.shape \n",
            " (72637, 3) \n",
            "\n"
          ]
        }
      ]
    },
    {
      "cell_type": "code",
      "execution_count": 86,
      "metadata": {
        "colab": {
          "base_uri": "https://localhost:8080/"
        },
        "id": "CVonutTRDuiz",
        "outputId": "b9f44064-86cc-47f1-8559-2304804d8cb6"
      },
      "outputs": [
        {
          "output_type": "stream",
          "name": "stdout",
          "text": [
            "LYLTY_CARD_NBR 0\n",
            "LIFESTAGE 0\n",
            "PREMIUM_CUSTOMER 0\n"
          ]
        }
      ],
      "source": [
        "for i in df_p.columns:\n",
        "    print(i, sum(df_p[i].isnull()))"
      ]
    },
    {
      "cell_type": "markdown",
      "metadata": {
        "id": "Guzkc2rrGZFL"
      },
      "source": [
        "There is no missing data"
      ]
    },
    {
      "cell_type": "code",
      "execution_count": 87,
      "metadata": {
        "colab": {
          "base_uri": "https://localhost:8080/"
        },
        "id": "06raMgX-FNNu",
        "outputId": "451746ae-71e3-4df1-e957-294e9934173a"
      },
      "outputs": [
        {
          "output_type": "stream",
          "name": "stdout",
          "text": [
            "DATE 0\n",
            "STORE_NBR 0\n",
            "LYLTY_CARD_NBR 0\n",
            "TXN_ID 0\n",
            "PROD_NBR 0\n",
            "PROD_NAME 0\n",
            "PROD_QTY 0\n",
            "TOT_SALES 0\n"
          ]
        }
      ],
      "source": [
        "for i in df_t.columns:\n",
        "    print(i, sum(df_t[i].isnull()))"
      ]
    },
    {
      "cell_type": "markdown",
      "metadata": {
        "id": "KP2vDffgGmdt"
      },
      "source": [
        "There is no missing data"
      ]
    },
    {
      "cell_type": "markdown",
      "metadata": {
        "id": "dlIx9itFSFJC"
      },
      "source": [
        "#### Merge the dataframes"
      ]
    },
    {
      "cell_type": "code",
      "execution_count": 88,
      "metadata": {
        "colab": {
          "base_uri": "https://localhost:8080/",
          "height": 206
        },
        "id": "dPIu-mxKJxQs",
        "outputId": "264fe7af-c10b-40e5-bfa5-8e41a760e1e3"
      },
      "outputs": [
        {
          "output_type": "execute_result",
          "data": {
            "text/plain": [
              "   LYLTY_CARD_NBR              LIFESTAGE PREMIUM_CUSTOMER   DATE  STORE_NBR  \\\n",
              "0            1000  YOUNG SINGLES/COUPLES          Premium  43390          1   \n",
              "1            1002  YOUNG SINGLES/COUPLES       Mainstream  43359          1   \n",
              "2            1003         YOUNG FAMILIES           Budget  43531          1   \n",
              "3            1003         YOUNG FAMILIES           Budget  43532          1   \n",
              "4            1004  OLDER SINGLES/COUPLES       Mainstream  43406          1   \n",
              "\n",
              "   TXN_ID  PROD_NBR                               PROD_NAME  PROD_QTY  \\\n",
              "0       1         5  Natural Chip        Compny SeaSalt175g         2   \n",
              "1       2        58   Red Rock Deli Chikn&Garlic Aioli 150g         1   \n",
              "2       3        52   Grain Waves Sour    Cream&Chives 210G         1   \n",
              "3       4       106  Natural ChipCo      Hony Soy Chckn175g         1   \n",
              "4       5        96          WW Original Stacked Chips 160g         1   \n",
              "\n",
              "   TOT_SALES  \n",
              "0        6.0  \n",
              "1        2.7  \n",
              "2        3.6  \n",
              "3        3.0  \n",
              "4        1.9  "
            ],
            "text/html": [
              "\n",
              "  <div id=\"df-aff21fea-dfb4-417f-b943-cb155870c301\">\n",
              "    <div class=\"colab-df-container\">\n",
              "      <div>\n",
              "<style scoped>\n",
              "    .dataframe tbody tr th:only-of-type {\n",
              "        vertical-align: middle;\n",
              "    }\n",
              "\n",
              "    .dataframe tbody tr th {\n",
              "        vertical-align: top;\n",
              "    }\n",
              "\n",
              "    .dataframe thead th {\n",
              "        text-align: right;\n",
              "    }\n",
              "</style>\n",
              "<table border=\"1\" class=\"dataframe\">\n",
              "  <thead>\n",
              "    <tr style=\"text-align: right;\">\n",
              "      <th></th>\n",
              "      <th>LYLTY_CARD_NBR</th>\n",
              "      <th>LIFESTAGE</th>\n",
              "      <th>PREMIUM_CUSTOMER</th>\n",
              "      <th>DATE</th>\n",
              "      <th>STORE_NBR</th>\n",
              "      <th>TXN_ID</th>\n",
              "      <th>PROD_NBR</th>\n",
              "      <th>PROD_NAME</th>\n",
              "      <th>PROD_QTY</th>\n",
              "      <th>TOT_SALES</th>\n",
              "    </tr>\n",
              "  </thead>\n",
              "  <tbody>\n",
              "    <tr>\n",
              "      <th>0</th>\n",
              "      <td>1000</td>\n",
              "      <td>YOUNG SINGLES/COUPLES</td>\n",
              "      <td>Premium</td>\n",
              "      <td>43390</td>\n",
              "      <td>1</td>\n",
              "      <td>1</td>\n",
              "      <td>5</td>\n",
              "      <td>Natural Chip        Compny SeaSalt175g</td>\n",
              "      <td>2</td>\n",
              "      <td>6.0</td>\n",
              "    </tr>\n",
              "    <tr>\n",
              "      <th>1</th>\n",
              "      <td>1002</td>\n",
              "      <td>YOUNG SINGLES/COUPLES</td>\n",
              "      <td>Mainstream</td>\n",
              "      <td>43359</td>\n",
              "      <td>1</td>\n",
              "      <td>2</td>\n",
              "      <td>58</td>\n",
              "      <td>Red Rock Deli Chikn&amp;Garlic Aioli 150g</td>\n",
              "      <td>1</td>\n",
              "      <td>2.7</td>\n",
              "    </tr>\n",
              "    <tr>\n",
              "      <th>2</th>\n",
              "      <td>1003</td>\n",
              "      <td>YOUNG FAMILIES</td>\n",
              "      <td>Budget</td>\n",
              "      <td>43531</td>\n",
              "      <td>1</td>\n",
              "      <td>3</td>\n",
              "      <td>52</td>\n",
              "      <td>Grain Waves Sour    Cream&amp;Chives 210G</td>\n",
              "      <td>1</td>\n",
              "      <td>3.6</td>\n",
              "    </tr>\n",
              "    <tr>\n",
              "      <th>3</th>\n",
              "      <td>1003</td>\n",
              "      <td>YOUNG FAMILIES</td>\n",
              "      <td>Budget</td>\n",
              "      <td>43532</td>\n",
              "      <td>1</td>\n",
              "      <td>4</td>\n",
              "      <td>106</td>\n",
              "      <td>Natural ChipCo      Hony Soy Chckn175g</td>\n",
              "      <td>1</td>\n",
              "      <td>3.0</td>\n",
              "    </tr>\n",
              "    <tr>\n",
              "      <th>4</th>\n",
              "      <td>1004</td>\n",
              "      <td>OLDER SINGLES/COUPLES</td>\n",
              "      <td>Mainstream</td>\n",
              "      <td>43406</td>\n",
              "      <td>1</td>\n",
              "      <td>5</td>\n",
              "      <td>96</td>\n",
              "      <td>WW Original Stacked Chips 160g</td>\n",
              "      <td>1</td>\n",
              "      <td>1.9</td>\n",
              "    </tr>\n",
              "  </tbody>\n",
              "</table>\n",
              "</div>\n",
              "      <button class=\"colab-df-convert\" onclick=\"convertToInteractive('df-aff21fea-dfb4-417f-b943-cb155870c301')\"\n",
              "              title=\"Convert this dataframe to an interactive table.\"\n",
              "              style=\"display:none;\">\n",
              "        \n",
              "  <svg xmlns=\"http://www.w3.org/2000/svg\" height=\"24px\"viewBox=\"0 0 24 24\"\n",
              "       width=\"24px\">\n",
              "    <path d=\"M0 0h24v24H0V0z\" fill=\"none\"/>\n",
              "    <path d=\"M18.56 5.44l.94 2.06.94-2.06 2.06-.94-2.06-.94-.94-2.06-.94 2.06-2.06.94zm-11 1L8.5 8.5l.94-2.06 2.06-.94-2.06-.94L8.5 2.5l-.94 2.06-2.06.94zm10 10l.94 2.06.94-2.06 2.06-.94-2.06-.94-.94-2.06-.94 2.06-2.06.94z\"/><path d=\"M17.41 7.96l-1.37-1.37c-.4-.4-.92-.59-1.43-.59-.52 0-1.04.2-1.43.59L10.3 9.45l-7.72 7.72c-.78.78-.78 2.05 0 2.83L4 21.41c.39.39.9.59 1.41.59.51 0 1.02-.2 1.41-.59l7.78-7.78 2.81-2.81c.8-.78.8-2.07 0-2.86zM5.41 20L4 18.59l7.72-7.72 1.47 1.35L5.41 20z\"/>\n",
              "  </svg>\n",
              "      </button>\n",
              "      \n",
              "  <style>\n",
              "    .colab-df-container {\n",
              "      display:flex;\n",
              "      flex-wrap:wrap;\n",
              "      gap: 12px;\n",
              "    }\n",
              "\n",
              "    .colab-df-convert {\n",
              "      background-color: #E8F0FE;\n",
              "      border: none;\n",
              "      border-radius: 50%;\n",
              "      cursor: pointer;\n",
              "      display: none;\n",
              "      fill: #1967D2;\n",
              "      height: 32px;\n",
              "      padding: 0 0 0 0;\n",
              "      width: 32px;\n",
              "    }\n",
              "\n",
              "    .colab-df-convert:hover {\n",
              "      background-color: #E2EBFA;\n",
              "      box-shadow: 0px 1px 2px rgba(60, 64, 67, 0.3), 0px 1px 3px 1px rgba(60, 64, 67, 0.15);\n",
              "      fill: #174EA6;\n",
              "    }\n",
              "\n",
              "    [theme=dark] .colab-df-convert {\n",
              "      background-color: #3B4455;\n",
              "      fill: #D2E3FC;\n",
              "    }\n",
              "\n",
              "    [theme=dark] .colab-df-convert:hover {\n",
              "      background-color: #434B5C;\n",
              "      box-shadow: 0px 1px 3px 1px rgba(0, 0, 0, 0.15);\n",
              "      filter: drop-shadow(0px 1px 2px rgba(0, 0, 0, 0.3));\n",
              "      fill: #FFFFFF;\n",
              "    }\n",
              "  </style>\n",
              "\n",
              "      <script>\n",
              "        const buttonEl =\n",
              "          document.querySelector('#df-aff21fea-dfb4-417f-b943-cb155870c301 button.colab-df-convert');\n",
              "        buttonEl.style.display =\n",
              "          google.colab.kernel.accessAllowed ? 'block' : 'none';\n",
              "\n",
              "        async function convertToInteractive(key) {\n",
              "          const element = document.querySelector('#df-aff21fea-dfb4-417f-b943-cb155870c301');\n",
              "          const dataTable =\n",
              "            await google.colab.kernel.invokeFunction('convertToInteractive',\n",
              "                                                     [key], {});\n",
              "          if (!dataTable) return;\n",
              "\n",
              "          const docLinkHtml = 'Like what you see? Visit the ' +\n",
              "            '<a target=\"_blank\" href=https://colab.research.google.com/notebooks/data_table.ipynb>data table notebook</a>'\n",
              "            + ' to learn more about interactive tables.';\n",
              "          element.innerHTML = '';\n",
              "          dataTable['output_type'] = 'display_data';\n",
              "          await google.colab.output.renderOutput(dataTable, element);\n",
              "          const docLink = document.createElement('div');\n",
              "          docLink.innerHTML = docLinkHtml;\n",
              "          element.appendChild(docLink);\n",
              "        }\n",
              "      </script>\n",
              "    </div>\n",
              "  </div>\n",
              "  "
            ]
          },
          "metadata": {},
          "execution_count": 88
        }
      ],
      "source": [
        "df_chips = pd.merge(df_p,df_t, on = \"LYLTY_CARD_NBR\", how=\"inner\")\n",
        "df_chips.head()"
      ]
    },
    {
      "cell_type": "markdown",
      "metadata": {
        "id": "I0IakFlZHqlJ"
      },
      "source": [
        "#### Let's Check for Anomalies"
      ]
    },
    {
      "cell_type": "code",
      "execution_count": 89,
      "metadata": {
        "colab": {
          "base_uri": "https://localhost:8080/",
          "height": 0
        },
        "id": "-Lb70T9TK7Uy",
        "outputId": "9dea4c98-9ec6-49ad-c43f-47a5cf7da72a"
      },
      "outputs": [
        {
          "output_type": "execute_result",
          "data": {
            "text/plain": [
              "        LYLTY_CARD_NBR       LIFESTAGE PREMIUM_CUSTOMER   DATE  STORE_NBR  \\\n",
              "221625          226000  OLDER FAMILIES          Premium  43331        226   \n",
              "221626          226000  OLDER FAMILIES          Premium  43605        226   \n",
              "\n",
              "        TXN_ID  PROD_NBR                         PROD_NAME  PROD_QTY  \\\n",
              "221625  226201         4  Dorito Corn Chp     Supreme 380g       200   \n",
              "221626  226210         4  Dorito Corn Chp     Supreme 380g       200   \n",
              "\n",
              "        TOT_SALES  \n",
              "221625      650.0  \n",
              "221626      650.0  "
            ],
            "text/html": [
              "\n",
              "  <div id=\"df-1cc99e39-0d77-46f1-9e96-0d7d0efa9c1d\">\n",
              "    <div class=\"colab-df-container\">\n",
              "      <div>\n",
              "<style scoped>\n",
              "    .dataframe tbody tr th:only-of-type {\n",
              "        vertical-align: middle;\n",
              "    }\n",
              "\n",
              "    .dataframe tbody tr th {\n",
              "        vertical-align: top;\n",
              "    }\n",
              "\n",
              "    .dataframe thead th {\n",
              "        text-align: right;\n",
              "    }\n",
              "</style>\n",
              "<table border=\"1\" class=\"dataframe\">\n",
              "  <thead>\n",
              "    <tr style=\"text-align: right;\">\n",
              "      <th></th>\n",
              "      <th>LYLTY_CARD_NBR</th>\n",
              "      <th>LIFESTAGE</th>\n",
              "      <th>PREMIUM_CUSTOMER</th>\n",
              "      <th>DATE</th>\n",
              "      <th>STORE_NBR</th>\n",
              "      <th>TXN_ID</th>\n",
              "      <th>PROD_NBR</th>\n",
              "      <th>PROD_NAME</th>\n",
              "      <th>PROD_QTY</th>\n",
              "      <th>TOT_SALES</th>\n",
              "    </tr>\n",
              "  </thead>\n",
              "  <tbody>\n",
              "    <tr>\n",
              "      <th>221625</th>\n",
              "      <td>226000</td>\n",
              "      <td>OLDER FAMILIES</td>\n",
              "      <td>Premium</td>\n",
              "      <td>43331</td>\n",
              "      <td>226</td>\n",
              "      <td>226201</td>\n",
              "      <td>4</td>\n",
              "      <td>Dorito Corn Chp     Supreme 380g</td>\n",
              "      <td>200</td>\n",
              "      <td>650.0</td>\n",
              "    </tr>\n",
              "    <tr>\n",
              "      <th>221626</th>\n",
              "      <td>226000</td>\n",
              "      <td>OLDER FAMILIES</td>\n",
              "      <td>Premium</td>\n",
              "      <td>43605</td>\n",
              "      <td>226</td>\n",
              "      <td>226210</td>\n",
              "      <td>4</td>\n",
              "      <td>Dorito Corn Chp     Supreme 380g</td>\n",
              "      <td>200</td>\n",
              "      <td>650.0</td>\n",
              "    </tr>\n",
              "  </tbody>\n",
              "</table>\n",
              "</div>\n",
              "      <button class=\"colab-df-convert\" onclick=\"convertToInteractive('df-1cc99e39-0d77-46f1-9e96-0d7d0efa9c1d')\"\n",
              "              title=\"Convert this dataframe to an interactive table.\"\n",
              "              style=\"display:none;\">\n",
              "        \n",
              "  <svg xmlns=\"http://www.w3.org/2000/svg\" height=\"24px\"viewBox=\"0 0 24 24\"\n",
              "       width=\"24px\">\n",
              "    <path d=\"M0 0h24v24H0V0z\" fill=\"none\"/>\n",
              "    <path d=\"M18.56 5.44l.94 2.06.94-2.06 2.06-.94-2.06-.94-.94-2.06-.94 2.06-2.06.94zm-11 1L8.5 8.5l.94-2.06 2.06-.94-2.06-.94L8.5 2.5l-.94 2.06-2.06.94zm10 10l.94 2.06.94-2.06 2.06-.94-2.06-.94-.94-2.06-.94 2.06-2.06.94z\"/><path d=\"M17.41 7.96l-1.37-1.37c-.4-.4-.92-.59-1.43-.59-.52 0-1.04.2-1.43.59L10.3 9.45l-7.72 7.72c-.78.78-.78 2.05 0 2.83L4 21.41c.39.39.9.59 1.41.59.51 0 1.02-.2 1.41-.59l7.78-7.78 2.81-2.81c.8-.78.8-2.07 0-2.86zM5.41 20L4 18.59l7.72-7.72 1.47 1.35L5.41 20z\"/>\n",
              "  </svg>\n",
              "      </button>\n",
              "      \n",
              "  <style>\n",
              "    .colab-df-container {\n",
              "      display:flex;\n",
              "      flex-wrap:wrap;\n",
              "      gap: 12px;\n",
              "    }\n",
              "\n",
              "    .colab-df-convert {\n",
              "      background-color: #E8F0FE;\n",
              "      border: none;\n",
              "      border-radius: 50%;\n",
              "      cursor: pointer;\n",
              "      display: none;\n",
              "      fill: #1967D2;\n",
              "      height: 32px;\n",
              "      padding: 0 0 0 0;\n",
              "      width: 32px;\n",
              "    }\n",
              "\n",
              "    .colab-df-convert:hover {\n",
              "      background-color: #E2EBFA;\n",
              "      box-shadow: 0px 1px 2px rgba(60, 64, 67, 0.3), 0px 1px 3px 1px rgba(60, 64, 67, 0.15);\n",
              "      fill: #174EA6;\n",
              "    }\n",
              "\n",
              "    [theme=dark] .colab-df-convert {\n",
              "      background-color: #3B4455;\n",
              "      fill: #D2E3FC;\n",
              "    }\n",
              "\n",
              "    [theme=dark] .colab-df-convert:hover {\n",
              "      background-color: #434B5C;\n",
              "      box-shadow: 0px 1px 3px 1px rgba(0, 0, 0, 0.15);\n",
              "      filter: drop-shadow(0px 1px 2px rgba(0, 0, 0, 0.3));\n",
              "      fill: #FFFFFF;\n",
              "    }\n",
              "  </style>\n",
              "\n",
              "      <script>\n",
              "        const buttonEl =\n",
              "          document.querySelector('#df-1cc99e39-0d77-46f1-9e96-0d7d0efa9c1d button.colab-df-convert');\n",
              "        buttonEl.style.display =\n",
              "          google.colab.kernel.accessAllowed ? 'block' : 'none';\n",
              "\n",
              "        async function convertToInteractive(key) {\n",
              "          const element = document.querySelector('#df-1cc99e39-0d77-46f1-9e96-0d7d0efa9c1d');\n",
              "          const dataTable =\n",
              "            await google.colab.kernel.invokeFunction('convertToInteractive',\n",
              "                                                     [key], {});\n",
              "          if (!dataTable) return;\n",
              "\n",
              "          const docLinkHtml = 'Like what you see? Visit the ' +\n",
              "            '<a target=\"_blank\" href=https://colab.research.google.com/notebooks/data_table.ipynb>data table notebook</a>'\n",
              "            + ' to learn more about interactive tables.';\n",
              "          element.innerHTML = '';\n",
              "          dataTable['output_type'] = 'display_data';\n",
              "          await google.colab.output.renderOutput(dataTable, element);\n",
              "          const docLink = document.createElement('div');\n",
              "          docLink.innerHTML = docLinkHtml;\n",
              "          element.appendChild(docLink);\n",
              "        }\n",
              "      </script>\n",
              "    </div>\n",
              "  </div>\n",
              "  "
            ]
          },
          "metadata": {},
          "execution_count": 89
        }
      ],
      "source": [
        "df_chips[df_chips[\"PROD_QTY\"] >= 50]"
      ]
    },
    {
      "cell_type": "markdown",
      "metadata": {
        "id": "RRRLFzmlKMBU"
      },
      "source": [
        "Has this customer bought before this transaction?"
      ]
    },
    {
      "cell_type": "code",
      "execution_count": 90,
      "metadata": {
        "colab": {
          "base_uri": "https://localhost:8080/",
          "height": 0
        },
        "id": "QbWuI2x1H3Qg",
        "outputId": "d674ef7b-7993-41dc-c619-e47a1d19b99e"
      },
      "outputs": [
        {
          "output_type": "execute_result",
          "data": {
            "text/plain": [
              "        LYLTY_CARD_NBR       LIFESTAGE PREMIUM_CUSTOMER   DATE  STORE_NBR  \\\n",
              "221625          226000  OLDER FAMILIES          Premium  43331        226   \n",
              "221626          226000  OLDER FAMILIES          Premium  43605        226   \n",
              "\n",
              "        TXN_ID  PROD_NBR                         PROD_NAME  PROD_QTY  \\\n",
              "221625  226201         4  Dorito Corn Chp     Supreme 380g       200   \n",
              "221626  226210         4  Dorito Corn Chp     Supreme 380g       200   \n",
              "\n",
              "        TOT_SALES  \n",
              "221625      650.0  \n",
              "221626      650.0  "
            ],
            "text/html": [
              "\n",
              "  <div id=\"df-97f08ca6-9916-474e-9c58-665759c9b61b\">\n",
              "    <div class=\"colab-df-container\">\n",
              "      <div>\n",
              "<style scoped>\n",
              "    .dataframe tbody tr th:only-of-type {\n",
              "        vertical-align: middle;\n",
              "    }\n",
              "\n",
              "    .dataframe tbody tr th {\n",
              "        vertical-align: top;\n",
              "    }\n",
              "\n",
              "    .dataframe thead th {\n",
              "        text-align: right;\n",
              "    }\n",
              "</style>\n",
              "<table border=\"1\" class=\"dataframe\">\n",
              "  <thead>\n",
              "    <tr style=\"text-align: right;\">\n",
              "      <th></th>\n",
              "      <th>LYLTY_CARD_NBR</th>\n",
              "      <th>LIFESTAGE</th>\n",
              "      <th>PREMIUM_CUSTOMER</th>\n",
              "      <th>DATE</th>\n",
              "      <th>STORE_NBR</th>\n",
              "      <th>TXN_ID</th>\n",
              "      <th>PROD_NBR</th>\n",
              "      <th>PROD_NAME</th>\n",
              "      <th>PROD_QTY</th>\n",
              "      <th>TOT_SALES</th>\n",
              "    </tr>\n",
              "  </thead>\n",
              "  <tbody>\n",
              "    <tr>\n",
              "      <th>221625</th>\n",
              "      <td>226000</td>\n",
              "      <td>OLDER FAMILIES</td>\n",
              "      <td>Premium</td>\n",
              "      <td>43331</td>\n",
              "      <td>226</td>\n",
              "      <td>226201</td>\n",
              "      <td>4</td>\n",
              "      <td>Dorito Corn Chp     Supreme 380g</td>\n",
              "      <td>200</td>\n",
              "      <td>650.0</td>\n",
              "    </tr>\n",
              "    <tr>\n",
              "      <th>221626</th>\n",
              "      <td>226000</td>\n",
              "      <td>OLDER FAMILIES</td>\n",
              "      <td>Premium</td>\n",
              "      <td>43605</td>\n",
              "      <td>226</td>\n",
              "      <td>226210</td>\n",
              "      <td>4</td>\n",
              "      <td>Dorito Corn Chp     Supreme 380g</td>\n",
              "      <td>200</td>\n",
              "      <td>650.0</td>\n",
              "    </tr>\n",
              "  </tbody>\n",
              "</table>\n",
              "</div>\n",
              "      <button class=\"colab-df-convert\" onclick=\"convertToInteractive('df-97f08ca6-9916-474e-9c58-665759c9b61b')\"\n",
              "              title=\"Convert this dataframe to an interactive table.\"\n",
              "              style=\"display:none;\">\n",
              "        \n",
              "  <svg xmlns=\"http://www.w3.org/2000/svg\" height=\"24px\"viewBox=\"0 0 24 24\"\n",
              "       width=\"24px\">\n",
              "    <path d=\"M0 0h24v24H0V0z\" fill=\"none\"/>\n",
              "    <path d=\"M18.56 5.44l.94 2.06.94-2.06 2.06-.94-2.06-.94-.94-2.06-.94 2.06-2.06.94zm-11 1L8.5 8.5l.94-2.06 2.06-.94-2.06-.94L8.5 2.5l-.94 2.06-2.06.94zm10 10l.94 2.06.94-2.06 2.06-.94-2.06-.94-.94-2.06-.94 2.06-2.06.94z\"/><path d=\"M17.41 7.96l-1.37-1.37c-.4-.4-.92-.59-1.43-.59-.52 0-1.04.2-1.43.59L10.3 9.45l-7.72 7.72c-.78.78-.78 2.05 0 2.83L4 21.41c.39.39.9.59 1.41.59.51 0 1.02-.2 1.41-.59l7.78-7.78 2.81-2.81c.8-.78.8-2.07 0-2.86zM5.41 20L4 18.59l7.72-7.72 1.47 1.35L5.41 20z\"/>\n",
              "  </svg>\n",
              "      </button>\n",
              "      \n",
              "  <style>\n",
              "    .colab-df-container {\n",
              "      display:flex;\n",
              "      flex-wrap:wrap;\n",
              "      gap: 12px;\n",
              "    }\n",
              "\n",
              "    .colab-df-convert {\n",
              "      background-color: #E8F0FE;\n",
              "      border: none;\n",
              "      border-radius: 50%;\n",
              "      cursor: pointer;\n",
              "      display: none;\n",
              "      fill: #1967D2;\n",
              "      height: 32px;\n",
              "      padding: 0 0 0 0;\n",
              "      width: 32px;\n",
              "    }\n",
              "\n",
              "    .colab-df-convert:hover {\n",
              "      background-color: #E2EBFA;\n",
              "      box-shadow: 0px 1px 2px rgba(60, 64, 67, 0.3), 0px 1px 3px 1px rgba(60, 64, 67, 0.15);\n",
              "      fill: #174EA6;\n",
              "    }\n",
              "\n",
              "    [theme=dark] .colab-df-convert {\n",
              "      background-color: #3B4455;\n",
              "      fill: #D2E3FC;\n",
              "    }\n",
              "\n",
              "    [theme=dark] .colab-df-convert:hover {\n",
              "      background-color: #434B5C;\n",
              "      box-shadow: 0px 1px 3px 1px rgba(0, 0, 0, 0.15);\n",
              "      filter: drop-shadow(0px 1px 2px rgba(0, 0, 0, 0.3));\n",
              "      fill: #FFFFFF;\n",
              "    }\n",
              "  </style>\n",
              "\n",
              "      <script>\n",
              "        const buttonEl =\n",
              "          document.querySelector('#df-97f08ca6-9916-474e-9c58-665759c9b61b button.colab-df-convert');\n",
              "        buttonEl.style.display =\n",
              "          google.colab.kernel.accessAllowed ? 'block' : 'none';\n",
              "\n",
              "        async function convertToInteractive(key) {\n",
              "          const element = document.querySelector('#df-97f08ca6-9916-474e-9c58-665759c9b61b');\n",
              "          const dataTable =\n",
              "            await google.colab.kernel.invokeFunction('convertToInteractive',\n",
              "                                                     [key], {});\n",
              "          if (!dataTable) return;\n",
              "\n",
              "          const docLinkHtml = 'Like what you see? Visit the ' +\n",
              "            '<a target=\"_blank\" href=https://colab.research.google.com/notebooks/data_table.ipynb>data table notebook</a>'\n",
              "            + ' to learn more about interactive tables.';\n",
              "          element.innerHTML = '';\n",
              "          dataTable['output_type'] = 'display_data';\n",
              "          await google.colab.output.renderOutput(dataTable, element);\n",
              "          const docLink = document.createElement('div');\n",
              "          docLink.innerHTML = docLinkHtml;\n",
              "          element.appendChild(docLink);\n",
              "        }\n",
              "      </script>\n",
              "    </div>\n",
              "  </div>\n",
              "  "
            ]
          },
          "metadata": {},
          "execution_count": 90
        }
      ],
      "source": [
        "df_chips[df_chips[\"LYLTY_CARD_NBR\"] == 226000]\n"
      ]
    },
    {
      "cell_type": "markdown",
      "metadata": {
        "id": "oot6t3HWLGlH"
      },
      "source": [
        "This customer has never bought anything other than these 2 transanctions. The number is too great for it to be for personal consumptio so it is probably for commercial use. We will therefore remove this customer from our database"
      ]
    },
    {
      "cell_type": "code",
      "execution_count": 91,
      "metadata": {
        "id": "TEcRgDuRLVu5"
      },
      "outputs": [],
      "source": [
        "# Removing the customer from our database\n",
        "anomal = df_chips[df_chips[\"PROD_QTY\"] >= 50].index\n",
        "df_chips.drop(labels = anomal, inplace = True)"
      ]
    },
    {
      "cell_type": "code",
      "execution_count": 92,
      "metadata": {
        "colab": {
          "base_uri": "https://localhost:8080/",
          "height": 0
        },
        "id": "nMWz460q3kNv",
        "outputId": "a8357e83-372d-4411-b1d1-274aeb2b9d6a"
      },
      "outputs": [
        {
          "output_type": "execute_result",
          "data": {
            "text/plain": [
              "Empty DataFrame\n",
              "Columns: [LYLTY_CARD_NBR, LIFESTAGE, PREMIUM_CUSTOMER, DATE, STORE_NBR, TXN_ID, PROD_NBR, PROD_NAME, PROD_QTY, TOT_SALES]\n",
              "Index: []"
            ],
            "text/html": [
              "\n",
              "  <div id=\"df-b47048dd-6e2a-4cf9-9ad4-efb7d4681d09\">\n",
              "    <div class=\"colab-df-container\">\n",
              "      <div>\n",
              "<style scoped>\n",
              "    .dataframe tbody tr th:only-of-type {\n",
              "        vertical-align: middle;\n",
              "    }\n",
              "\n",
              "    .dataframe tbody tr th {\n",
              "        vertical-align: top;\n",
              "    }\n",
              "\n",
              "    .dataframe thead th {\n",
              "        text-align: right;\n",
              "    }\n",
              "</style>\n",
              "<table border=\"1\" class=\"dataframe\">\n",
              "  <thead>\n",
              "    <tr style=\"text-align: right;\">\n",
              "      <th></th>\n",
              "      <th>LYLTY_CARD_NBR</th>\n",
              "      <th>LIFESTAGE</th>\n",
              "      <th>PREMIUM_CUSTOMER</th>\n",
              "      <th>DATE</th>\n",
              "      <th>STORE_NBR</th>\n",
              "      <th>TXN_ID</th>\n",
              "      <th>PROD_NBR</th>\n",
              "      <th>PROD_NAME</th>\n",
              "      <th>PROD_QTY</th>\n",
              "      <th>TOT_SALES</th>\n",
              "    </tr>\n",
              "  </thead>\n",
              "  <tbody>\n",
              "  </tbody>\n",
              "</table>\n",
              "</div>\n",
              "      <button class=\"colab-df-convert\" onclick=\"convertToInteractive('df-b47048dd-6e2a-4cf9-9ad4-efb7d4681d09')\"\n",
              "              title=\"Convert this dataframe to an interactive table.\"\n",
              "              style=\"display:none;\">\n",
              "        \n",
              "  <svg xmlns=\"http://www.w3.org/2000/svg\" height=\"24px\"viewBox=\"0 0 24 24\"\n",
              "       width=\"24px\">\n",
              "    <path d=\"M0 0h24v24H0V0z\" fill=\"none\"/>\n",
              "    <path d=\"M18.56 5.44l.94 2.06.94-2.06 2.06-.94-2.06-.94-.94-2.06-.94 2.06-2.06.94zm-11 1L8.5 8.5l.94-2.06 2.06-.94-2.06-.94L8.5 2.5l-.94 2.06-2.06.94zm10 10l.94 2.06.94-2.06 2.06-.94-2.06-.94-.94-2.06-.94 2.06-2.06.94z\"/><path d=\"M17.41 7.96l-1.37-1.37c-.4-.4-.92-.59-1.43-.59-.52 0-1.04.2-1.43.59L10.3 9.45l-7.72 7.72c-.78.78-.78 2.05 0 2.83L4 21.41c.39.39.9.59 1.41.59.51 0 1.02-.2 1.41-.59l7.78-7.78 2.81-2.81c.8-.78.8-2.07 0-2.86zM5.41 20L4 18.59l7.72-7.72 1.47 1.35L5.41 20z\"/>\n",
              "  </svg>\n",
              "      </button>\n",
              "      \n",
              "  <style>\n",
              "    .colab-df-container {\n",
              "      display:flex;\n",
              "      flex-wrap:wrap;\n",
              "      gap: 12px;\n",
              "    }\n",
              "\n",
              "    .colab-df-convert {\n",
              "      background-color: #E8F0FE;\n",
              "      border: none;\n",
              "      border-radius: 50%;\n",
              "      cursor: pointer;\n",
              "      display: none;\n",
              "      fill: #1967D2;\n",
              "      height: 32px;\n",
              "      padding: 0 0 0 0;\n",
              "      width: 32px;\n",
              "    }\n",
              "\n",
              "    .colab-df-convert:hover {\n",
              "      background-color: #E2EBFA;\n",
              "      box-shadow: 0px 1px 2px rgba(60, 64, 67, 0.3), 0px 1px 3px 1px rgba(60, 64, 67, 0.15);\n",
              "      fill: #174EA6;\n",
              "    }\n",
              "\n",
              "    [theme=dark] .colab-df-convert {\n",
              "      background-color: #3B4455;\n",
              "      fill: #D2E3FC;\n",
              "    }\n",
              "\n",
              "    [theme=dark] .colab-df-convert:hover {\n",
              "      background-color: #434B5C;\n",
              "      box-shadow: 0px 1px 3px 1px rgba(0, 0, 0, 0.15);\n",
              "      filter: drop-shadow(0px 1px 2px rgba(0, 0, 0, 0.3));\n",
              "      fill: #FFFFFF;\n",
              "    }\n",
              "  </style>\n",
              "\n",
              "      <script>\n",
              "        const buttonEl =\n",
              "          document.querySelector('#df-b47048dd-6e2a-4cf9-9ad4-efb7d4681d09 button.colab-df-convert');\n",
              "        buttonEl.style.display =\n",
              "          google.colab.kernel.accessAllowed ? 'block' : 'none';\n",
              "\n",
              "        async function convertToInteractive(key) {\n",
              "          const element = document.querySelector('#df-b47048dd-6e2a-4cf9-9ad4-efb7d4681d09');\n",
              "          const dataTable =\n",
              "            await google.colab.kernel.invokeFunction('convertToInteractive',\n",
              "                                                     [key], {});\n",
              "          if (!dataTable) return;\n",
              "\n",
              "          const docLinkHtml = 'Like what you see? Visit the ' +\n",
              "            '<a target=\"_blank\" href=https://colab.research.google.com/notebooks/data_table.ipynb>data table notebook</a>'\n",
              "            + ' to learn more about interactive tables.';\n",
              "          element.innerHTML = '';\n",
              "          dataTable['output_type'] = 'display_data';\n",
              "          await google.colab.output.renderOutput(dataTable, element);\n",
              "          const docLink = document.createElement('div');\n",
              "          docLink.innerHTML = docLinkHtml;\n",
              "          element.appendChild(docLink);\n",
              "        }\n",
              "      </script>\n",
              "    </div>\n",
              "  </div>\n",
              "  "
            ]
          },
          "metadata": {},
          "execution_count": 92
        }
      ],
      "source": [
        "df_chips[df_chips[\"LYLTY_CARD_NBR\"] == 226000]"
      ]
    },
    {
      "cell_type": "markdown",
      "metadata": {
        "id": "K5JUeuPfWYrx"
      },
      "source": [
        "### PACK SIZE"
      ]
    },
    {
      "cell_type": "code",
      "execution_count": 93,
      "metadata": {
        "id": "Qpm4eu7V4VML"
      },
      "outputs": [],
      "source": [
        "Pack_size = []\n",
        "temp = re.compile(\"([a-zA-Z]+)([0-9]+)\")\n",
        "for i in df_chips[\"PROD_NAME\"]:\n",
        "  z = str(i)\n",
        "  res = list(re.findall(r'(\\s?)(\\d+)', z)[0])\n",
        "  g = int(res[-1])\n",
        "  Pack_size.append(g)"
      ]
    },
    {
      "cell_type": "code",
      "execution_count": 94,
      "metadata": {
        "colab": {
          "base_uri": "https://localhost:8080/",
          "height": 337
        },
        "id": "dKcfu1-d_BKr",
        "outputId": "feeec046-27c0-4354-ad59-e9c05c7438c1"
      },
      "outputs": [
        {
          "output_type": "execute_result",
          "data": {
            "text/plain": [
              "   LYLTY_CARD_NBR              LIFESTAGE PREMIUM_CUSTOMER   DATE  STORE_NBR  \\\n",
              "0            1000  YOUNG SINGLES/COUPLES          Premium  43390          1   \n",
              "1            1002  YOUNG SINGLES/COUPLES       Mainstream  43359          1   \n",
              "2            1003         YOUNG FAMILIES           Budget  43531          1   \n",
              "3            1003         YOUNG FAMILIES           Budget  43532          1   \n",
              "4            1004  OLDER SINGLES/COUPLES       Mainstream  43406          1   \n",
              "\n",
              "   TXN_ID  PROD_NBR                               PROD_NAME  PACK_SIZE  \\\n",
              "0       1         5  Natural Chip        Compny SeaSalt175g        175   \n",
              "1       2        58   Red Rock Deli Chikn&Garlic Aioli 150g        150   \n",
              "2       3        52   Grain Waves Sour    Cream&Chives 210G        210   \n",
              "3       4       106  Natural ChipCo      Hony Soy Chckn175g        175   \n",
              "4       5        96          WW Original Stacked Chips 160g        160   \n",
              "\n",
              "   PROD_QTY  TOT_SALES  \n",
              "0         2        6.0  \n",
              "1         1        2.7  \n",
              "2         1        3.6  \n",
              "3         1        3.0  \n",
              "4         1        1.9  "
            ],
            "text/html": [
              "\n",
              "  <div id=\"df-3c6397c9-a28c-4162-b7ae-4588c0327d3c\">\n",
              "    <div class=\"colab-df-container\">\n",
              "      <div>\n",
              "<style scoped>\n",
              "    .dataframe tbody tr th:only-of-type {\n",
              "        vertical-align: middle;\n",
              "    }\n",
              "\n",
              "    .dataframe tbody tr th {\n",
              "        vertical-align: top;\n",
              "    }\n",
              "\n",
              "    .dataframe thead th {\n",
              "        text-align: right;\n",
              "    }\n",
              "</style>\n",
              "<table border=\"1\" class=\"dataframe\">\n",
              "  <thead>\n",
              "    <tr style=\"text-align: right;\">\n",
              "      <th></th>\n",
              "      <th>LYLTY_CARD_NBR</th>\n",
              "      <th>LIFESTAGE</th>\n",
              "      <th>PREMIUM_CUSTOMER</th>\n",
              "      <th>DATE</th>\n",
              "      <th>STORE_NBR</th>\n",
              "      <th>TXN_ID</th>\n",
              "      <th>PROD_NBR</th>\n",
              "      <th>PROD_NAME</th>\n",
              "      <th>PACK_SIZE</th>\n",
              "      <th>PROD_QTY</th>\n",
              "      <th>TOT_SALES</th>\n",
              "    </tr>\n",
              "  </thead>\n",
              "  <tbody>\n",
              "    <tr>\n",
              "      <th>0</th>\n",
              "      <td>1000</td>\n",
              "      <td>YOUNG SINGLES/COUPLES</td>\n",
              "      <td>Premium</td>\n",
              "      <td>43390</td>\n",
              "      <td>1</td>\n",
              "      <td>1</td>\n",
              "      <td>5</td>\n",
              "      <td>Natural Chip        Compny SeaSalt175g</td>\n",
              "      <td>175</td>\n",
              "      <td>2</td>\n",
              "      <td>6.0</td>\n",
              "    </tr>\n",
              "    <tr>\n",
              "      <th>1</th>\n",
              "      <td>1002</td>\n",
              "      <td>YOUNG SINGLES/COUPLES</td>\n",
              "      <td>Mainstream</td>\n",
              "      <td>43359</td>\n",
              "      <td>1</td>\n",
              "      <td>2</td>\n",
              "      <td>58</td>\n",
              "      <td>Red Rock Deli Chikn&amp;Garlic Aioli 150g</td>\n",
              "      <td>150</td>\n",
              "      <td>1</td>\n",
              "      <td>2.7</td>\n",
              "    </tr>\n",
              "    <tr>\n",
              "      <th>2</th>\n",
              "      <td>1003</td>\n",
              "      <td>YOUNG FAMILIES</td>\n",
              "      <td>Budget</td>\n",
              "      <td>43531</td>\n",
              "      <td>1</td>\n",
              "      <td>3</td>\n",
              "      <td>52</td>\n",
              "      <td>Grain Waves Sour    Cream&amp;Chives 210G</td>\n",
              "      <td>210</td>\n",
              "      <td>1</td>\n",
              "      <td>3.6</td>\n",
              "    </tr>\n",
              "    <tr>\n",
              "      <th>3</th>\n",
              "      <td>1003</td>\n",
              "      <td>YOUNG FAMILIES</td>\n",
              "      <td>Budget</td>\n",
              "      <td>43532</td>\n",
              "      <td>1</td>\n",
              "      <td>4</td>\n",
              "      <td>106</td>\n",
              "      <td>Natural ChipCo      Hony Soy Chckn175g</td>\n",
              "      <td>175</td>\n",
              "      <td>1</td>\n",
              "      <td>3.0</td>\n",
              "    </tr>\n",
              "    <tr>\n",
              "      <th>4</th>\n",
              "      <td>1004</td>\n",
              "      <td>OLDER SINGLES/COUPLES</td>\n",
              "      <td>Mainstream</td>\n",
              "      <td>43406</td>\n",
              "      <td>1</td>\n",
              "      <td>5</td>\n",
              "      <td>96</td>\n",
              "      <td>WW Original Stacked Chips 160g</td>\n",
              "      <td>160</td>\n",
              "      <td>1</td>\n",
              "      <td>1.9</td>\n",
              "    </tr>\n",
              "  </tbody>\n",
              "</table>\n",
              "</div>\n",
              "      <button class=\"colab-df-convert\" onclick=\"convertToInteractive('df-3c6397c9-a28c-4162-b7ae-4588c0327d3c')\"\n",
              "              title=\"Convert this dataframe to an interactive table.\"\n",
              "              style=\"display:none;\">\n",
              "        \n",
              "  <svg xmlns=\"http://www.w3.org/2000/svg\" height=\"24px\"viewBox=\"0 0 24 24\"\n",
              "       width=\"24px\">\n",
              "    <path d=\"M0 0h24v24H0V0z\" fill=\"none\"/>\n",
              "    <path d=\"M18.56 5.44l.94 2.06.94-2.06 2.06-.94-2.06-.94-.94-2.06-.94 2.06-2.06.94zm-11 1L8.5 8.5l.94-2.06 2.06-.94-2.06-.94L8.5 2.5l-.94 2.06-2.06.94zm10 10l.94 2.06.94-2.06 2.06-.94-2.06-.94-.94-2.06-.94 2.06-2.06.94z\"/><path d=\"M17.41 7.96l-1.37-1.37c-.4-.4-.92-.59-1.43-.59-.52 0-1.04.2-1.43.59L10.3 9.45l-7.72 7.72c-.78.78-.78 2.05 0 2.83L4 21.41c.39.39.9.59 1.41.59.51 0 1.02-.2 1.41-.59l7.78-7.78 2.81-2.81c.8-.78.8-2.07 0-2.86zM5.41 20L4 18.59l7.72-7.72 1.47 1.35L5.41 20z\"/>\n",
              "  </svg>\n",
              "      </button>\n",
              "      \n",
              "  <style>\n",
              "    .colab-df-container {\n",
              "      display:flex;\n",
              "      flex-wrap:wrap;\n",
              "      gap: 12px;\n",
              "    }\n",
              "\n",
              "    .colab-df-convert {\n",
              "      background-color: #E8F0FE;\n",
              "      border: none;\n",
              "      border-radius: 50%;\n",
              "      cursor: pointer;\n",
              "      display: none;\n",
              "      fill: #1967D2;\n",
              "      height: 32px;\n",
              "      padding: 0 0 0 0;\n",
              "      width: 32px;\n",
              "    }\n",
              "\n",
              "    .colab-df-convert:hover {\n",
              "      background-color: #E2EBFA;\n",
              "      box-shadow: 0px 1px 2px rgba(60, 64, 67, 0.3), 0px 1px 3px 1px rgba(60, 64, 67, 0.15);\n",
              "      fill: #174EA6;\n",
              "    }\n",
              "\n",
              "    [theme=dark] .colab-df-convert {\n",
              "      background-color: #3B4455;\n",
              "      fill: #D2E3FC;\n",
              "    }\n",
              "\n",
              "    [theme=dark] .colab-df-convert:hover {\n",
              "      background-color: #434B5C;\n",
              "      box-shadow: 0px 1px 3px 1px rgba(0, 0, 0, 0.15);\n",
              "      filter: drop-shadow(0px 1px 2px rgba(0, 0, 0, 0.3));\n",
              "      fill: #FFFFFF;\n",
              "    }\n",
              "  </style>\n",
              "\n",
              "      <script>\n",
              "        const buttonEl =\n",
              "          document.querySelector('#df-3c6397c9-a28c-4162-b7ae-4588c0327d3c button.colab-df-convert');\n",
              "        buttonEl.style.display =\n",
              "          google.colab.kernel.accessAllowed ? 'block' : 'none';\n",
              "\n",
              "        async function convertToInteractive(key) {\n",
              "          const element = document.querySelector('#df-3c6397c9-a28c-4162-b7ae-4588c0327d3c');\n",
              "          const dataTable =\n",
              "            await google.colab.kernel.invokeFunction('convertToInteractive',\n",
              "                                                     [key], {});\n",
              "          if (!dataTable) return;\n",
              "\n",
              "          const docLinkHtml = 'Like what you see? Visit the ' +\n",
              "            '<a target=\"_blank\" href=https://colab.research.google.com/notebooks/data_table.ipynb>data table notebook</a>'\n",
              "            + ' to learn more about interactive tables.';\n",
              "          element.innerHTML = '';\n",
              "          dataTable['output_type'] = 'display_data';\n",
              "          await google.colab.output.renderOutput(dataTable, element);\n",
              "          const docLink = document.createElement('div');\n",
              "          docLink.innerHTML = docLinkHtml;\n",
              "          element.appendChild(docLink);\n",
              "        }\n",
              "      </script>\n",
              "    </div>\n",
              "  </div>\n",
              "  "
            ]
          },
          "metadata": {},
          "execution_count": 94
        }
      ],
      "source": [
        "df_chips.insert(8, 'PACK_SIZE', Pack_size)\n",
        "df_chips.head()"
      ]
    },
    {
      "cell_type": "markdown",
      "metadata": {
        "id": "RyS7vsmuMtMO"
      },
      "source": [
        "#### Relationship between Packet Size and Price"
      ]
    },
    {
      "cell_type": "code",
      "execution_count": 95,
      "metadata": {
        "colab": {
          "base_uri": "https://localhost:8080/"
        },
        "id": "nrUIzO9dMwm9",
        "outputId": "62017da1-7928-45d2-d9a1-47b7efb6600f"
      },
      "outputs": [
        {
          "output_type": "execute_result",
          "data": {
            "text/plain": [
              "PACK_SIZE\n",
              "175    485437.4\n",
              "150    304288.5\n",
              "134    177655.5\n",
              "110    162765.4\n",
              "170    146673.0\n",
              "330    136794.3\n",
              "300    113330.6\n",
              "165    101360.6\n",
              "380     75419.6\n",
              "270     55425.4\n",
              "Name: TOT_SALES, dtype: float64"
            ]
          },
          "metadata": {},
          "execution_count": 95
        }
      ],
      "source": [
        "df_pack_size1 = df_chips.groupby('PACK_SIZE').sum()['TOT_SALES'].sort_values(ascending = False)\n",
        "\n",
        "# A list of the keys which are the names of the top 10 PACK SIZE\n",
        "pack_size_key_list1 = list(df_pack_size1[:10].keys())\n",
        "df_pack_size1[:10]"
      ]
    },
    {
      "cell_type": "code",
      "execution_count": 96,
      "metadata": {
        "colab": {
          "base_uri": "https://localhost:8080/",
          "height": 359
        },
        "id": "jRdqmVYUUHRQ",
        "outputId": "8aa0ecb3-d86f-4601-ef03-af12ce2d2c8d"
      },
      "outputs": [
        {
          "output_type": "display_data",
          "data": {
            "text/plain": [
              "<Figure size 432x288 with 1 Axes>"
            ],
            "image/png": "[encoded data removed]"
          },
          "metadata": {
            "needs_background": "light"
          }
        }
      ],
      "source": [
        "fig = plt.figure()\n",
        "ax = fig.add_axes([0,0,1,1])\n",
        "ax.bar(pack_size_key_list1,df_pack_size1[:10])\n",
        "plt.title('')\n",
        "plt.xlabel('PACK SIZE')\n",
        "plt.ylabel('Sales')\n",
        "plt.xticks(rotation= 'vertical')\n",
        "plt.show()"
      ]
    },
    {
      "cell_type": "code",
      "source": [
        "sns.lineplot(x = list(df_pack_size1.keys()), y = df_pack_size1)\n",
        "plt.show()"
      ],
      "metadata": {
        "colab": {
          "base_uri": "https://localhost:8080/",
          "height": 265
        },
        "id": "tC36kOcZwOWM",
        "outputId": "c0461d7a-95dd-424a-d06a-fc67fa1a3ee8"
      },
      "execution_count": 120,
      "outputs": [
        {
          "output_type": "display_data",
          "data": {
            "text/plain": [
              "<Figure size 432x288 with 1 Axes>"
            ],
            "image/png": "[encoded data removed]"
          },
          "metadata": {
            "needs_background": "light"
          }
        }
      ]
    },
    {
      "cell_type": "markdown",
      "metadata": {
        "id": "knngMOyING5_"
      },
      "source": [
        "175g PACK_SIZE has the most sales"
      ]
    },
    {
      "cell_type": "markdown",
      "metadata": {
        "id": "mKROVXXnNLwk"
      },
      "source": [
        "#### What PACK SIZE is bought the most"
      ]
    },
    {
      "cell_type": "code",
      "execution_count": 97,
      "metadata": {
        "colab": {
          "base_uri": "https://localhost:8080/"
        },
        "id": "FfJIdf0INSzx",
        "outputId": "9390112d-7db4-48ef-ffe4-d4e692fa24e0"
      },
      "outputs": [
        {
          "output_type": "execute_result",
          "data": {
            "text/plain": [
              "[175, 150, 134, 110, 170, 165, 300, 330, 380, 270]"
            ]
          },
          "metadata": {},
          "execution_count": 97
        }
      ],
      "source": [
        "df_pack_size = df_chips.groupby('PACK_SIZE').sum()['PROD_QTY'].sort_values(ascending = False)\n",
        "\n",
        "# A list of the keys which are the names of the top 10 PACK SIZE\n",
        "pack_size_key_list = list(df_pack_size[:10].keys())\n",
        "pack_size_key_list"
      ]
    },
    {
      "cell_type": "code",
      "execution_count": 98,
      "metadata": {
        "colab": {
          "base_uri": "https://localhost:8080/",
          "height": 359
        },
        "id": "Y5rX7nG9N8Vv",
        "outputId": "0b328266-2320-4bab-aabf-22de72fd9cd9"
      },
      "outputs": [
        {
          "output_type": "display_data",
          "data": {
            "text/plain": [
              "<Figure size 432x288 with 1 Axes>"
            ],
            "image/png": "[encoded data removed]"
          },
          "metadata": {
            "needs_background": "light"
          }
        }
      ],
      "source": [
        "fig = plt.figure()\n",
        "ax = fig.add_axes([0,0,1,1])\n",
        "ax.bar(pack_size_key_list,df_pack_size[:10])\n",
        "plt.title('')\n",
        "plt.xlabel('PACK SIZE')\n",
        "plt.ylabel('Quantity')\n",
        "plt.xticks(rotation= 'vertical')\n",
        "plt.show()"
      ]
    },
    {
      "cell_type": "markdown",
      "metadata": {
        "id": "bDpf8cu-Nejh"
      },
      "source": [
        "It looks like 175g PACK SIZE is the most desired pack size"
      ]
    },
    {
      "cell_type": "markdown",
      "metadata": {
        "id": "pV-rIqcMWcfl"
      },
      "source": [
        "### BRANDS"
      ]
    },
    {
      "cell_type": "markdown",
      "metadata": {
        "id": "il5KEJ0HXJZc"
      },
      "source": [
        "#### Let's get the names of the Brands"
      ]
    },
    {
      "cell_type": "code",
      "execution_count": 121,
      "metadata": {
        "id": "5VH-bbUVcBF8"
      },
      "outputs": [],
      "source": [
        "Brands = []\n",
        "for i in df_chips[\"PROD_NAME\"]:\n",
        "  z = str(i)\n",
        "  res = list(re.findall(r'^(\\w+)(\\b)', z)[0])\n",
        "  g = res[0]\n",
        "  Brands.append(g)\n",
        "  g"
      ]
    },
    {
      "cell_type": "code",
      "execution_count": 100,
      "metadata": {
        "colab": {
          "base_uri": "https://localhost:8080/",
          "height": 337
        },
        "id": "7fk0js9scIfc",
        "outputId": "ca5f97e4-74d8-45a9-b444-4549c2032d01"
      },
      "outputs": [
        {
          "output_type": "execute_result",
          "data": {
            "text/plain": [
              "   LYLTY_CARD_NBR              LIFESTAGE PREMIUM_CUSTOMER   DATE  STORE_NBR  \\\n",
              "0            1000  YOUNG SINGLES/COUPLES          Premium  43390          1   \n",
              "1            1002  YOUNG SINGLES/COUPLES       Mainstream  43359          1   \n",
              "2            1003         YOUNG FAMILIES           Budget  43531          1   \n",
              "3            1003         YOUNG FAMILIES           Budget  43532          1   \n",
              "4            1004  OLDER SINGLES/COUPLES       Mainstream  43406          1   \n",
              "\n",
              "   TXN_ID  PROD_NBR                               PROD_NAME  PACK_SIZE  \\\n",
              "0       1         5  Natural Chip        Compny SeaSalt175g        175   \n",
              "1       2        58   Red Rock Deli Chikn&Garlic Aioli 150g        150   \n",
              "2       3        52   Grain Waves Sour    Cream&Chives 210G        210   \n",
              "3       4       106  Natural ChipCo      Hony Soy Chckn175g        175   \n",
              "4       5        96          WW Original Stacked Chips 160g        160   \n",
              "\n",
              "  BRAND_NAME  PROD_QTY  TOT_SALES  \n",
              "0    Natural         2        6.0  \n",
              "1        Red         1        2.7  \n",
              "2      Grain         1        3.6  \n",
              "3    Natural         1        3.0  \n",
              "4         WW         1        1.9  "
            ],
            "text/html": [
              "\n",
              "  <div id=\"df-0c197e87-509c-498a-ab78-a9121ebdbf64\">\n",
              "    <div class=\"colab-df-container\">\n",
              "      <div>\n",
              "<style scoped>\n",
              "    .dataframe tbody tr th:only-of-type {\n",
              "        vertical-align: middle;\n",
              "    }\n",
              "\n",
              "    .dataframe tbody tr th {\n",
              "        vertical-align: top;\n",
              "    }\n",
              "\n",
              "    .dataframe thead th {\n",
              "        text-align: right;\n",
              "    }\n",
              "</style>\n",
              "<table border=\"1\" class=\"dataframe\">\n",
              "  <thead>\n",
              "    <tr style=\"text-align: right;\">\n",
              "      <th></th>\n",
              "      <th>LYLTY_CARD_NBR</th>\n",
              "      <th>LIFESTAGE</th>\n",
              "      <th>PREMIUM_CUSTOMER</th>\n",
              "      <th>DATE</th>\n",
              "      <th>STORE_NBR</th>\n",
              "      <th>TXN_ID</th>\n",
              "      <th>PROD_NBR</th>\n",
              "      <th>PROD_NAME</th>\n",
              "      <th>PACK_SIZE</th>\n",
              "      <th>BRAND_NAME</th>\n",
              "      <th>PROD_QTY</th>\n",
              "      <th>TOT_SALES</th>\n",
              "    </tr>\n",
              "  </thead>\n",
              "  <tbody>\n",
              "    <tr>\n",
              "      <th>0</th>\n",
              "      <td>1000</td>\n",
              "      <td>YOUNG SINGLES/COUPLES</td>\n",
              "      <td>Premium</td>\n",
              "      <td>43390</td>\n",
              "      <td>1</td>\n",
              "      <td>1</td>\n",
              "      <td>5</td>\n",
              "      <td>Natural Chip        Compny SeaSalt175g</td>\n",
              "      <td>175</td>\n",
              "      <td>Natural</td>\n",
              "      <td>2</td>\n",
              "      <td>6.0</td>\n",
              "    </tr>\n",
              "    <tr>\n",
              "      <th>1</th>\n",
              "      <td>1002</td>\n",
              "      <td>YOUNG SINGLES/COUPLES</td>\n",
              "      <td>Mainstream</td>\n",
              "      <td>43359</td>\n",
              "      <td>1</td>\n",
              "      <td>2</td>\n",
              "      <td>58</td>\n",
              "      <td>Red Rock Deli Chikn&amp;Garlic Aioli 150g</td>\n",
              "      <td>150</td>\n",
              "      <td>Red</td>\n",
              "      <td>1</td>\n",
              "      <td>2.7</td>\n",
              "    </tr>\n",
              "    <tr>\n",
              "      <th>2</th>\n",
              "      <td>1003</td>\n",
              "      <td>YOUNG FAMILIES</td>\n",
              "      <td>Budget</td>\n",
              "      <td>43531</td>\n",
              "      <td>1</td>\n",
              "      <td>3</td>\n",
              "      <td>52</td>\n",
              "      <td>Grain Waves Sour    Cream&amp;Chives 210G</td>\n",
              "      <td>210</td>\n",
              "      <td>Grain</td>\n",
              "      <td>1</td>\n",
              "      <td>3.6</td>\n",
              "    </tr>\n",
              "    <tr>\n",
              "      <th>3</th>\n",
              "      <td>1003</td>\n",
              "      <td>YOUNG FAMILIES</td>\n",
              "      <td>Budget</td>\n",
              "      <td>43532</td>\n",
              "      <td>1</td>\n",
              "      <td>4</td>\n",
              "      <td>106</td>\n",
              "      <td>Natural ChipCo      Hony Soy Chckn175g</td>\n",
              "      <td>175</td>\n",
              "      <td>Natural</td>\n",
              "      <td>1</td>\n",
              "      <td>3.0</td>\n",
              "    </tr>\n",
              "    <tr>\n",
              "      <th>4</th>\n",
              "      <td>1004</td>\n",
              "      <td>OLDER SINGLES/COUPLES</td>\n",
              "      <td>Mainstream</td>\n",
              "      <td>43406</td>\n",
              "      <td>1</td>\n",
              "      <td>5</td>\n",
              "      <td>96</td>\n",
              "      <td>WW Original Stacked Chips 160g</td>\n",
              "      <td>160</td>\n",
              "      <td>WW</td>\n",
              "      <td>1</td>\n",
              "      <td>1.9</td>\n",
              "    </tr>\n",
              "  </tbody>\n",
              "</table>\n",
              "</div>\n",
              "      <button class=\"colab-df-convert\" onclick=\"convertToInteractive('df-0c197e87-509c-498a-ab78-a9121ebdbf64')\"\n",
              "              title=\"Convert this dataframe to an interactive table.\"\n",
              "              style=\"display:none;\">\n",
              "        \n",
              "  <svg xmlns=\"http://www.w3.org/2000/svg\" height=\"24px\"viewBox=\"0 0 24 24\"\n",
              "       width=\"24px\">\n",
              "    <path d=\"M0 0h24v24H0V0z\" fill=\"none\"/>\n",
              "    <path d=\"M18.56 5.44l.94 2.06.94-2.06 2.06-.94-2.06-.94-.94-2.06-.94 2.06-2.06.94zm-11 1L8.5 8.5l.94-2.06 2.06-.94-2.06-.94L8.5 2.5l-.94 2.06-2.06.94zm10 10l.94 2.06.94-2.06 2.06-.94-2.06-.94-.94-2.06-.94 2.06-2.06.94z\"/><path d=\"M17.41 7.96l-1.37-1.37c-.4-.4-.92-.59-1.43-.59-.52 0-1.04.2-1.43.59L10.3 9.45l-7.72 7.72c-.78.78-.78 2.05 0 2.83L4 21.41c.39.39.9.59 1.41.59.51 0 1.02-.2 1.41-.59l7.78-7.78 2.81-2.81c.8-.78.8-2.07 0-2.86zM5.41 20L4 18.59l7.72-7.72 1.47 1.35L5.41 20z\"/>\n",
              "  </svg>\n",
              "      </button>\n",
              "      \n",
              "  <style>\n",
              "    .colab-df-container {\n",
              "      display:flex;\n",
              "      flex-wrap:wrap;\n",
              "      gap: 12px;\n",
              "    }\n",
              "\n",
              "    .colab-df-convert {\n",
              "      background-color: #E8F0FE;\n",
              "      border: none;\n",
              "      border-radius: 50%;\n",
              "      cursor: pointer;\n",
              "      display: none;\n",
              "      fill: #1967D2;\n",
              "      height: 32px;\n",
              "      padding: 0 0 0 0;\n",
              "      width: 32px;\n",
              "    }\n",
              "\n",
              "    .colab-df-convert:hover {\n",
              "      background-color: #E2EBFA;\n",
              "      box-shadow: 0px 1px 2px rgba(60, 64, 67, 0.3), 0px 1px 3px 1px rgba(60, 64, 67, 0.15);\n",
              "      fill: #174EA6;\n",
              "    }\n",
              "\n",
              "    [theme=dark] .colab-df-convert {\n",
              "      background-color: #3B4455;\n",
              "      fill: #D2E3FC;\n",
              "    }\n",
              "\n",
              "    [theme=dark] .colab-df-convert:hover {\n",
              "      background-color: #434B5C;\n",
              "      box-shadow: 0px 1px 3px 1px rgba(0, 0, 0, 0.15);\n",
              "      filter: drop-shadow(0px 1px 2px rgba(0, 0, 0, 0.3));\n",
              "      fill: #FFFFFF;\n",
              "    }\n",
              "  </style>\n",
              "\n",
              "      <script>\n",
              "        const buttonEl =\n",
              "          document.querySelector('#df-0c197e87-509c-498a-ab78-a9121ebdbf64 button.colab-df-convert');\n",
              "        buttonEl.style.display =\n",
              "          google.colab.kernel.accessAllowed ? 'block' : 'none';\n",
              "\n",
              "        async function convertToInteractive(key) {\n",
              "          const element = document.querySelector('#df-0c197e87-509c-498a-ab78-a9121ebdbf64');\n",
              "          const dataTable =\n",
              "            await google.colab.kernel.invokeFunction('convertToInteractive',\n",
              "                                                     [key], {});\n",
              "          if (!dataTable) return;\n",
              "\n",
              "          const docLinkHtml = 'Like what you see? Visit the ' +\n",
              "            '<a target=\"_blank\" href=https://colab.research.google.com/notebooks/data_table.ipynb>data table notebook</a>'\n",
              "            + ' to learn more about interactive tables.';\n",
              "          element.innerHTML = '';\n",
              "          dataTable['output_type'] = 'display_data';\n",
              "          await google.colab.output.renderOutput(dataTable, element);\n",
              "          const docLink = document.createElement('div');\n",
              "          docLink.innerHTML = docLinkHtml;\n",
              "          element.appendChild(docLink);\n",
              "        }\n",
              "      </script>\n",
              "    </div>\n",
              "  </div>\n",
              "  "
            ]
          },
          "metadata": {},
          "execution_count": 100
        }
      ],
      "source": [
        "df_chips.insert(9, 'BRAND_NAME', Brands)\n",
        "df_chips.head()"
      ]
    },
    {
      "cell_type": "markdown",
      "metadata": {
        "id": "Vj_NnKGn0pSv"
      },
      "source": [
        "#### What CHIP BRANDS do customers buy the most of?"
      ]
    },
    {
      "cell_type": "code",
      "execution_count": 125,
      "metadata": {
        "colab": {
          "base_uri": "https://localhost:8080/"
        },
        "id": "YiqRUg5-z9Wo",
        "outputId": "554f7c41-736a-4404-e7d3-c21586c3d0fa"
      },
      "outputs": [
        {
          "output_type": "execute_result",
          "data": {
            "text/plain": [
              "['Kettle',\n",
              " 'Smiths',\n",
              " 'Pringles',\n",
              " 'Doritos',\n",
              " 'Thins',\n",
              " 'RRD',\n",
              " 'Infuzions',\n",
              " 'WW',\n",
              " 'Cobs',\n",
              " 'Tostitos']"
            ]
          },
          "metadata": {},
          "execution_count": 125
        }
      ],
      "source": [
        "df_pop_brands = df_chips.groupby(\"BRAND_NAME\").sum()['PROD_QTY'].sort_values(ascending=False)\n",
        "brand_name_key_list = list(df_pop_brands[:10].keys())\n",
        "brand_name_key_list"
      ]
    },
    {
      "cell_type": "code",
      "execution_count": 126,
      "metadata": {
        "colab": {
          "base_uri": "https://localhost:8080/",
          "height": 385
        },
        "id": "MEF3Qb2cYuQn",
        "outputId": "c6f584a1-9c38-48c8-c8e4-a72f5b9f6b6c"
      },
      "outputs": [
        {
          "output_type": "display_data",
          "data": {
            "text/plain": [
              "<Figure size 432x288 with 1 Axes>"
            ],
            "image/png": "[encoded data removed]"
          },
          "metadata": {
            "needs_background": "light"
          }
        }
      ],
      "source": [
        "fig = plt.figure()\n",
        "ax = fig.add_axes([0,0,1,1])\n",
        "ax.bar(brand_name_key_list,df_pop_brands[:10])\n",
        "plt.title('')\n",
        "plt.xlabel('BRAND NAME')\n",
        "plt.ylabel('Quantity')\n",
        "plt.xticks(rotation= 'vertical')\n",
        "plt.show()"
      ]
    },
    {
      "cell_type": "markdown",
      "metadata": {
        "id": "TlClVtJP2vij"
      },
      "source": [
        "#### What CHIP BRANDS do customers spend the most on?"
      ]
    },
    {
      "cell_type": "code",
      "execution_count": 103,
      "metadata": {
        "colab": {
          "base_uri": "https://localhost:8080/"
        },
        "id": "1U0CD8cE29EI",
        "outputId": "f4af69bc-858d-474e-dd3d-53a11fc57b6b"
      },
      "outputs": [
        {
          "output_type": "execute_result",
          "data": {
            "text/plain": [
              "['Kettle',\n",
              " 'Smiths',\n",
              " 'Doritos',\n",
              " 'Pringles',\n",
              " 'Old',\n",
              " 'Thins',\n",
              " 'Twisties',\n",
              " 'Tostitos',\n",
              " 'Infuzions',\n",
              " 'Cobs']"
            ]
          },
          "metadata": {},
          "execution_count": 103
        }
      ],
      "source": [
        "df_brand_sale = df_chips.groupby(\"BRAND_NAME\").sum()['TOT_SALES'].sort_values(ascending=False)\n",
        "brand_sale_key_list = list(df_brand_sale[:10].keys())\n",
        "brand_sale_key_list"
      ]
    },
    {
      "cell_type": "code",
      "execution_count": 104,
      "metadata": {
        "colab": {
          "base_uri": "https://localhost:8080/",
          "height": 385
        },
        "id": "BBrMMjhz29EK",
        "outputId": "6acd9c71-ecfd-4c3d-cf70-11294e4e329c"
      },
      "outputs": [
        {
          "output_type": "display_data",
          "data": {
            "text/plain": [
              "<Figure size 432x288 with 1 Axes>"
            ],
            "image/png": "[encoded data removed]"
          },
          "metadata": {
            "needs_background": "light"
          }
        }
      ],
      "source": [
        "fig = plt.figure()\n",
        "ax = fig.add_axes([0,0,1,1])\n",
        "ax.bar(brand_sale_key_list,df_brand_sale[:10])\n",
        "plt.title('')\n",
        "plt.xlabel('BRAND NAME')\n",
        "plt.ylabel('SALES')\n",
        "plt.xticks(rotation= 'vertical')\n",
        "plt.show()"
      ]
    },
    {
      "cell_type": "markdown",
      "metadata": {
        "id": "sTzH09EFWfTl"
      },
      "source": [
        "#### What Kettle CHIP PRODUCTS are bought the most?"
      ]
    },
    {
      "cell_type": "code",
      "execution_count": 127,
      "metadata": {
        "id": "bXz40gcdWma-",
        "colab": {
          "base_uri": "https://localhost:8080/"
        },
        "outputId": "26f99c7b-e297-4da7-e58d-eed0b6e160b4"
      },
      "outputs": [
        {
          "output_type": "execute_result",
          "data": {
            "text/plain": [
              "PROD_NAME\n",
              "Kettle Mozzarella   Basil & Pesto 175g      6381\n",
              "Kettle Tortilla ChpsHny&Jlpno Chili 150g    6309\n",
              "Kettle 135g Swt Pot Sea Salt                6212\n",
              "Kettle Sensations   Camembert & Fig 150g    6157\n",
              "Kettle Sweet Chilli And Sour Cream 175g     6120\n",
              "Kettle Original 175g                        6064\n",
              "Kettle Tortilla ChpsBtroot&Ricotta 150g     6037\n",
              "Kettle Sea Salt     And Vinegar 175g        6035\n",
              "Kettle Honey Soy    Chicken 175g            6033\n",
              "Kettle Tortilla ChpsFeta&Garlic 150g        6008\n",
              "Kettle Sensations   Siracha Lime 150g       5993\n",
              "Kettle Sensations   BBQ&Maple 150g          5910\n",
              "Kettle Chilli 175g                          5792\n",
              "Name: PROD_QTY, dtype: int64"
            ]
          },
          "metadata": {},
          "execution_count": 127
        }
      ],
      "source": [
        "df_chips[df_chips[\"BRAND_NAME\"] == \"Kettle\"].groupby(\"PROD_NAME\").sum()[\"PROD_QTY\"].sort_values(ascending = False)"
      ]
    },
    {
      "cell_type": "markdown",
      "metadata": {
        "id": "ivnVPOxHEKIA"
      },
      "source": [
        "### PURCHASING BEHAVIOUR OF CUSTOMERS"
      ]
    },
    {
      "cell_type": "markdown",
      "source": [
        "### Customer Distribution for PREMIUM_CUSTOMER and LIFESTAGE"
      ],
      "metadata": {
        "id": "VZADFYXon3TA"
      }
    },
    {
      "cell_type": "code",
      "execution_count": 134,
      "metadata": {
        "id": "UVRIf_DTlFyM",
        "colab": {
          "base_uri": "https://localhost:8080/"
        },
        "outputId": "5ba9b342-fd46-4cdf-d2e1-7370df579e2f"
      },
      "outputs": [
        {
          "output_type": "stream",
          "name": "stdout",
          "text": [
            "Premium Customers \n",
            " LIFESTAGE\n",
            "OLDER SINGLES/COUPLES     4750\n",
            "RETIREES                  3872\n",
            "YOUNG SINGLES/COUPLES     2574\n",
            "YOUNG FAMILIES            2433\n",
            "MIDAGE SINGLES/COUPLES    2431\n",
            "OLDER FAMILIES            2274\n",
            "NEW FAMILIES               588\n",
            "Name: LYLTY_CARD_NBR, dtype: int64 \n",
            "\n",
            "Mainstream Customers \n",
            " LIFESTAGE\n",
            "YOUNG SINGLES/COUPLES     8088\n",
            "RETIREES                  6479\n",
            "OLDER SINGLES/COUPLES     4930\n",
            "MIDAGE SINGLES/COUPLES    3340\n",
            "OLDER FAMILIES            2831\n",
            "YOUNG FAMILIES            2728\n",
            "NEW FAMILIES               849\n",
            "Name: LYLTY_CARD_NBR, dtype: int64 \n",
            "\n",
            "Budget Customers \n",
            " LIFESTAGE\n",
            "OLDER SINGLES/COUPLES     4929\n",
            "OLDER FAMILIES            4675\n",
            "RETIREES                  4454\n",
            "YOUNG FAMILIES            4017\n",
            "YOUNG SINGLES/COUPLES     3779\n",
            "MIDAGE SINGLES/COUPLES    1504\n",
            "NEW FAMILIES              1112\n",
            "Name: LYLTY_CARD_NBR, dtype: int64 \n",
            "\n"
          ]
        }
      ],
      "source": [
        "for i in df_p['PREMIUM_CUSTOMER'].unique():\n",
        "  print(i+\" Customers\", \"\\n\", df_p[df_p[\"PREMIUM_CUSTOMER\"]==i].groupby(\"LIFESTAGE\").count()['LYLTY_CARD_NBR'].sort_values(ascending=False), \"\\n\")"
      ]
    },
    {
      "cell_type": "code",
      "source": [
        "sns.histplot(data=df_p, x=\"LIFESTAGE\", hue=\"PREMIUM_CUSTOMER\", multiple=\"dodge\", shrink=.8)\n",
        "plt.xticks(rotation= 'vertical')"
      ],
      "metadata": {
        "colab": {
          "base_uri": "https://localhost:8080/",
          "height": 421
        },
        "id": "NKITbj1BMhky",
        "outputId": "a92c3c4c-a79f-490c-92b5-021260800fa4"
      },
      "execution_count": 175,
      "outputs": [
        {
          "output_type": "execute_result",
          "data": {
            "text/plain": [
              "([0, 1, 2, 3, 4, 5, 6], <a list of 7 Text major ticklabel objects>)"
            ]
          },
          "metadata": {},
          "execution_count": 175
        },
        {
          "output_type": "display_data",
          "data": {
            "text/plain": [
              "<Figure size 432x288 with 1 Axes>"
            ],
            "image/png": "[encoded data removed]"
          },
          "metadata": {
            "needs_background": "light"
          }
        }
      ]
    },
    {
      "cell_type": "markdown",
      "metadata": {
        "id": "HxJA1siqpY9r"
      },
      "source": [
        "Older Singles/Couples are the highest Premium Customers\n",
        "\n",
        "Young Singles/Couples are the highest Mainstream Customers\n",
        "\n",
        "Older Singles/Couples are also the highest Budget Customers\n",
        "\n",
        "Retirees are in the top 3 highest subscribers for each subscription."
      ]
    },
    {
      "cell_type": "markdown",
      "metadata": {
        "id": "euQIsT9KC338"
      },
      "source": [
        "There are more RETIREES and YOUNG SINGLES/COUPLES in \"Mainstream\" than any other LIFESTAGE"
      ]
    },
    {
      "cell_type": "markdown",
      "metadata": {
        "id": "dDx8cy9O9rzh"
      },
      "source": [
        "### LIFESTAGE CUSTOMER ANALYSIS"
      ]
    },
    {
      "cell_type": "markdown",
      "metadata": {
        "id": "C57vuijW4_qI"
      },
      "source": [
        "#### Which LIFESTAGE has the highest number of people?"
      ]
    },
    {
      "cell_type": "code",
      "execution_count": 168,
      "metadata": {
        "colab": {
          "base_uri": "https://localhost:8080/"
        },
        "id": "5BfVnXo0hp4k",
        "outputId": "67fd896e-3014-49d6-b4b8-9dc3e51e19ef"
      },
      "outputs": [
        {
          "output_type": "execute_result",
          "data": {
            "text/plain": [
              "LIFESTAGE\n",
              "RETIREES                  14805\n",
              "OLDER SINGLES/COUPLES     14609\n",
              "YOUNG SINGLES/COUPLES     14441\n",
              "OLDER FAMILIES             9780\n",
              "YOUNG FAMILIES             9178\n",
              "MIDAGE SINGLES/COUPLES     7275\n",
              "NEW FAMILIES               2549\n",
              "Name: LYLTY_CARD_NBR, dtype: int64"
            ]
          },
          "metadata": {},
          "execution_count": 168
        }
      ],
      "source": [
        "df_lfstg = df_p.groupby('LIFESTAGE').count()['LYLTY_CARD_NBR'].sort_values(ascending = False)\n",
        "df_lfstg"
      ]
    },
    {
      "cell_type": "code",
      "source": [
        "fig = plt.figure()\n",
        "ax = fig.add_axes([0,0,1,1])\n",
        "ax.bar(list(df_lfstg.keys()),df_lfstg)\n",
        "plt.title('')\n",
        "plt.xlabel('LIFESTAGE')\n",
        "plt.ylabel('Count')\n",
        "plt.xticks(rotation= 'vertical')\n",
        "plt.show()"
      ],
      "metadata": {
        "colab": {
          "base_uri": "https://localhost:8080/",
          "height": 475
        },
        "id": "zwMqUdv3mO-R",
        "outputId": "cc739d3c-1d48-4837-f625-c141e8c83e82"
      },
      "execution_count": 172,
      "outputs": [
        {
          "output_type": "display_data",
          "data": {
            "text/plain": [
              "<Figure size 432x288 with 1 Axes>"
            ],
            "image/png": "[encoded data removed]"
          },
          "metadata": {
            "needs_background": "light"
          }
        }
      ]
    },
    {
      "cell_type": "markdown",
      "metadata": {
        "id": "--EgasviSJQW"
      },
      "source": [
        "New Families are the lowest number of lifestage category\n",
        "\n",
        "while Retirees are the highest number of lifestage category"
      ]
    },
    {
      "cell_type": "markdown",
      "source": [
        "#### Distribution of Demand across LIFESTAGE"
      ],
      "metadata": {
        "id": "5uzqPEynGx5Q"
      }
    },
    {
      "cell_type": "code",
      "source": [
        "df_ltsg_dmd = df_chips.groupby(\"LIFESTAGE\").sum()[\"PROD_QTY\"].sort_values(ascending = False)\n",
        "df_ltsg_dmd"
      ],
      "metadata": {
        "colab": {
          "base_uri": "https://localhost:8080/"
        },
        "outputId": "f1bcdbe1-080f-435a-b575-4c599211f4e1",
        "id": "S7ldG048Gx5R"
      },
      "execution_count": null,
      "outputs": [
        {
          "output_type": "execute_result",
          "data": {
            "text/plain": [
              "LIFESTAGE\n",
              "OLDER SINGLES/COUPLES     104203\n",
              "OLDER FAMILIES             94592\n",
              "RETIREES                   94166\n",
              "YOUNG FAMILIES             84561\n",
              "YOUNG SINGLES/COUPLES      66634\n",
              "MIDAGE SINGLES/COUPLES     47721\n",
              "NEW FAMILIES               12847\n",
              "Name: PROD_QTY, dtype: int64"
            ]
          },
          "metadata": {},
          "execution_count": 166
        }
      ]
    },
    {
      "cell_type": "code",
      "source": [
        "fig = plt.figure()\n",
        "ax = fig.add_axes([0,0,1,1])\n",
        "ax.bar(list(df_ltsg_dmd.keys()),df_ltsg_dmd)\n",
        "plt.title('')\n",
        "plt.xlabel('LIFESTAGE')\n",
        "plt.ylabel('Quantity')\n",
        "plt.xticks(rotation= 'vertical')\n",
        "plt.show()"
      ],
      "metadata": {
        "colab": {
          "base_uri": "https://localhost:8080/",
          "height": 475
        },
        "outputId": "7aa1e890-a6f3-41af-ae10-8f6e487068eb",
        "id": "KbZu2B_YGx5T"
      },
      "execution_count": null,
      "outputs": [
        {
          "output_type": "display_data",
          "data": {
            "text/plain": [
              "<Figure size 432x288 with 1 Axes>"
            ],
            "image/png": "[encoded data removed]"
          },
          "metadata": {
            "needs_background": "light"
          }
        }
      ]
    },
    {
      "cell_type": "markdown",
      "source": [
        "**TOP 3**\n",
        "\n",
        "OLDER SINGLES/COUPLES have the highest demand because they have the second highest number of people subscribed [14609] and also because of extra income due to the lack of children.\n",
        "\n",
        "OLDER FAMILES have the 2nd highest demand which is driven by their children demand for CHIPS.\n",
        "\n",
        "RETIREES have a higher demand compared to others, due to steady income from their pension and also because it has the highest number of people subscribed [14805]"
      ],
      "metadata": {
        "id": "_JIvWeJyGzoM"
      }
    },
    {
      "cell_type": "markdown",
      "source": [
        "#### Distribution of Sales across LIFESTAGE"
      ],
      "metadata": {
        "id": "nNFf-_O2cQ9-"
      }
    },
    {
      "cell_type": "code",
      "execution_count": 199,
      "metadata": {
        "id": "ZPuA_lZuQsGV"
      },
      "outputs": [],
      "source": [
        "lifestage = df_chips.groupby('LIFESTAGE').sum()['TOT_SALES'].sort_values(ascending = False)\n",
        "\n",
        "lifestage_keys = list(lifestage.keys())\n",
        "lifestage_lst = []\n",
        "for i in list(lifestage.keys()):\n",
        "  lifestage_lst.append(lifestage[i])"
      ]
    },
    {
      "cell_type": "code",
      "execution_count": 200,
      "metadata": {
        "id": "CLa3PuYpTg34",
        "colab": {
          "base_uri": "https://localhost:8080/",
          "height": 475
        },
        "outputId": "d1884501-f431-48fe-aab6-40cd519859f7"
      },
      "outputs": [
        {
          "output_type": "display_data",
          "data": {
            "text/plain": [
              "<Figure size 432x288 with 1 Axes>"
            ],
            "image/png": "[encoded data removed]"
          },
          "metadata": {
            "needs_background": "light"
          }
        }
      ],
      "source": [
        "fig = plt.figure()\n",
        "ax = fig.add_axes([0,0,1,1])\n",
        "ax.bar(lifestage_keys,lifestage_lst)\n",
        "plt.title('')\n",
        "plt.xlabel('LIFESTAGE')\n",
        "plt.ylabel('Sales')\n",
        "plt.xticks(rotation= 'vertical')\n",
        "plt.show()"
      ]
    },
    {
      "cell_type": "markdown",
      "metadata": {
        "id": "d5EcajU__PKk"
      },
      "source": [
        "#### What CHIPS are each LIFESTAGE's highest demand?"
      ]
    },
    {
      "cell_type": "code",
      "execution_count": 204,
      "metadata": {
        "id": "lJqE2fml_Wse",
        "colab": {
          "base_uri": "https://localhost:8080/"
        },
        "outputId": "d77f3ff3-8674-4ae8-be76-449394c1669a"
      },
      "outputs": [
        {
          "output_type": "stream",
          "name": "stdout",
          "text": [
            "YOUNG SINGLES/COUPLES \n",
            " PROD_NAME\n",
            "Kettle Mozzarella   Basil & Pesto 175g      956\n",
            "Tostitos Splash Of  Lime 175g               945\n",
            "Doritos Corn Chips  Cheese Supreme 170g     909\n",
            "Pringles Mystery    Flavour 134g            906\n",
            "Kettle Sensations   Camembert & Fig 150g    889\n",
            "Doritos Corn Chips  Original 170g           889\n",
            "Tyrrells Crisps     Lightly Salted 165g     887\n",
            "Smiths Crnkle Chip  Orgnl Big Bag 380g      886\n",
            "Infuzions BBQ Rib   Prawn Crackers 110g     884\n",
            "Cobs Popd Swt/Chlli &Sr/Cream Chips 110g    884\n",
            "Name: PROD_QTY, dtype: int64 \n",
            "\n",
            "YOUNG FAMILIES \n",
            " PROD_NAME\n",
            "Kettle Original 175g                        1040\n",
            "Cobs Popd Sea Salt  Chips 110g              1011\n",
            "Cheezels Cheese 330g                        1006\n",
            "Kettle Tortilla ChpsHny&Jlpno Chili 150g     999\n",
            "Cobs Popd Swt/Chlli &Sr/Cream Chips 110g     995\n",
            "Kettle Tortilla ChpsFeta&Garlic 150g         993\n",
            "Tostitos Smoked     Chipotle 175g            986\n",
            "Doritos Corn Chip Mexican Jalapeno 150g      986\n",
            "Pringles SourCream  Onion 134g               984\n",
            "Doritos Corn Chips  Cheese Supreme 170g      978\n",
            "Name: PROD_QTY, dtype: int64 \n",
            "\n",
            "OLDER SINGLES/COUPLES \n",
            " PROD_NAME\n",
            "Kettle 135g Swt Pot Sea Salt                1417\n",
            "Cobs Popd Sea Salt  Chips 110g              1394\n",
            "Thins Chips Seasonedchicken 175g            1388\n",
            "Tostitos Splash Of  Lime 175g               1378\n",
            "Doritos Corn Chip Southern Chicken 150g     1366\n",
            "Infuzions Thai SweetChili PotatoMix 110g    1356\n",
            "Kettle Sensations   Camembert & Fig 150g    1350\n",
            "Kettle Tortilla ChpsBtroot&Ricotta 150g     1345\n",
            "Tyrrells Crisps     Ched & Chives 165g      1332\n",
            "Pringles Sweet&Spcy BBQ 134g                1330\n",
            "Name: PROD_QTY, dtype: int64 \n",
            "\n",
            "MIDAGE SINGLES/COUPLES \n",
            " PROD_NAME\n",
            "Infzns Crn Crnchers Tangy Gcamole 110g      656\n",
            "Cheezels Cheese 330g                        640\n",
            "Twisties Chicken270g                        638\n",
            "Smiths Crnkle Chip  Orgnl Big Bag 380g      635\n",
            "Kettle Sweet Chilli And Sour Cream 175g     633\n",
            "Doritos Corn Chip Mexican Jalapeno 150g     630\n",
            "Kettle Mozzarella   Basil & Pesto 175g      627\n",
            "Kettle Tortilla ChpsHny&Jlpno Chili 150g    624\n",
            "Cobs Popd Sour Crm  &Chives Chips 110g      623\n",
            "Doritos Corn Chips  Nacho Cheese 170g       623\n",
            "Name: PROD_QTY, dtype: int64 \n",
            "\n",
            "NEW FAMILIES \n",
            " PROD_NAME\n",
            "Kettle Honey Soy    Chicken 175g            197\n",
            "Cobs Popd Swt/Chlli &Sr/Cream Chips 110g    197\n",
            "Grain Waves         Sweet Chilli 210g       195\n",
            "Tostitos Splash Of  Lime 175g               191\n",
            "Doritos Corn Chip Southern Chicken 150g     190\n",
            "Doritos Mexicana    170g                    190\n",
            "Tyrrells Crisps     Lightly Salted 165g     188\n",
            "Pringles Barbeque   134g                    187\n",
            "Doritos Corn Chips  Cheese Supreme 170g     187\n",
            "Cobs Popd Sour Crm  &Chives Chips 110g      185\n",
            "Name: PROD_QTY, dtype: int64 \n",
            "\n",
            "OLDER FAMILIES \n",
            " PROD_NAME\n",
            "Smiths Crinkle Chips Salt & Vinegar 330g    1149\n",
            "Old El Paso Salsa   Dip Chnky Tom Ht300g    1129\n",
            "Thins Potato Chips  Hot & Spicy 175g        1128\n",
            "Infzns Crn Crnchers Tangy Gcamole 110g      1107\n",
            "Twisties Chicken270g                        1102\n",
            "Smiths Crinkle      Original 330g           1096\n",
            "Twisties Cheese     Burger 250g             1093\n",
            "Pringles Original   Crisps 134g             1091\n",
            "Cobs Popd Sour Crm  &Chives Chips 110g      1090\n",
            "Kettle Mozzarella   Basil & Pesto 175g      1089\n",
            "Name: PROD_QTY, dtype: int64 \n",
            "\n",
            "RETIREES \n",
            " PROD_NAME\n",
            "Kettle Mozzarella   Basil & Pesto 175g      1284\n",
            "Thins Chips Light&  Tangy 175g              1278\n",
            "Pringles Barbeque   134g                    1275\n",
            "Twisties Cheese     Burger 250g             1271\n",
            "Thins Potato Chips  Hot & Spicy 175g        1260\n",
            "Kettle Tortilla ChpsHny&Jlpno Chili 150g    1260\n",
            "Cobs Popd Sea Salt  Chips 110g              1252\n",
            "Doritos Mexicana    170g                    1251\n",
            "Kettle Sensations   Camembert & Fig 150g    1246\n",
            "Pringles Sweet&Spcy BBQ 134g                1245\n",
            "Name: PROD_QTY, dtype: int64 \n",
            "\n"
          ]
        }
      ],
      "source": [
        "for i in df_chips[\"LIFESTAGE\"].unique():\n",
        "  print(i, \"\\n\", df_chips[df_chips[\"LIFESTAGE\"]==i].groupby(\"PROD_NAME\").sum()['PROD_QTY'].sort_values(ascending=False)[:10], \"\\n\")"
      ]
    },
    {
      "cell_type": "markdown",
      "source": [
        "YOUNG SINGLES/COUPLES have a high demand for                \n",
        "\n",
        "1.  Kettle Mozzarella Basil & Pesto 175g\n",
        "2.  Tostitos Splash Of Lime 175g and \n",
        "3.  Doritos Corn Chips  Cheese Supreme 170g\n",
        "\n",
        "\n",
        "YOUNG FAMILES have a high demand for \n",
        "1.  Kettle Original 175g\n",
        "2.  Cobs Popd Sea Salt  Chips 110g and\n",
        "3.  Cheezels Cheese 330g\n",
        "\n",
        "OLDER SINGLES/COUPLES have a high demand for\n",
        "1. Kettle 135g Swt Pot Sea Salt                          \n",
        "2. Cobs Popd Sea Salt  Chips 110g\n",
        "3. Thins Chips Seasonedchicken 175g\n",
        "\n",
        "MIDAGE SINGLES/COUPLES have a high demand for \n",
        "1. Infzns Crn Crnchers Tangy Gcamole 110g\n",
        "2. Cheezels Cheese 330g\n",
        "3. Twisties Chicken 270g\n",
        "\n",
        "NEW FAMILIES have a high demand for\n",
        "1. Kettle Honey Soy    Chicken 175g\n",
        "2. Cobs Popd Swt/Chlli &Sr/Cream Chips 110g\n",
        "3. Grain Waves Sweet Chilli 210g\n",
        "\n",
        "OLD FAMILIES have a high demand for \n",
        "1. Smiths Crinkle Chips Salt & Vinegar 330g\n",
        "2. Old El Paso Salsa   Dip Chnky Tom Ht300g\n",
        "3. Thins Potato Chips  Hot & Spicy 175g\n",
        "\n",
        "RETIREES have a high demand for\n",
        "1. Kettle Mozzarella   Basil & Pesto 175g\n",
        "2. Thins Chips Light&  Tangy 175g\n",
        "3. Pringles Barbeque"
      ],
      "metadata": {
        "id": "8q6bdDV4dtNk"
      }
    },
    {
      "cell_type": "markdown",
      "metadata": {
        "id": "7jsj-X_h9ve9"
      },
      "source": [
        "### PREMIUM_CUSTOMER ANALYSIS"
      ]
    },
    {
      "cell_type": "markdown",
      "metadata": {
        "id": "SySTIU6x43KL"
      },
      "source": [
        "#### What PREMIUM_CUSTOMER has the highest number of subscribers?"
      ]
    },
    {
      "cell_type": "code",
      "execution_count": 108,
      "metadata": {
        "colab": {
          "base_uri": "https://localhost:8080/"
        },
        "id": "EQ4qnVxT5dYc",
        "outputId": "4c84848e-bf0c-451a-81da-8cd1e1073b09"
      },
      "outputs": [
        {
          "output_type": "execute_result",
          "data": {
            "text/plain": [
              "PREMIUM_CUSTOMER\n",
              "Mainstream    29245\n",
              "Budget        24470\n",
              "Premium       18922\n",
              "Name: LYLTY_CARD_NBR, dtype: int64"
            ]
          },
          "metadata": {},
          "execution_count": 108
        }
      ],
      "source": [
        "df_p.groupby(\"PREMIUM_CUSTOMER\").count()['LYLTY_CARD_NBR'].sort_values(ascending=False)"
      ]
    },
    {
      "cell_type": "code",
      "source": [
        "sns.histplot(x=\"PREMIUM_CUSTOMER\",data= df_p, stat=\"count\")\n",
        "plt.xticks(rotation= 'vertical')"
      ],
      "metadata": {
        "colab": {
          "base_uri": "https://localhost:8080/",
          "height": 346
        },
        "id": "S2WD9nOg9dQm",
        "outputId": "b5f6a757-af4f-4468-f385-e17862929795"
      },
      "execution_count": 109,
      "outputs": [
        {
          "output_type": "execute_result",
          "data": {
            "text/plain": [
              "([0, 1, 2], <a list of 3 Text major ticklabel objects>)"
            ]
          },
          "metadata": {},
          "execution_count": 109
        },
        {
          "output_type": "display_data",
          "data": {
            "text/plain": [
              "<Figure size 432x288 with 1 Axes>"
            ],
            "image/png": "[encoded data removed]"
          },
          "metadata": {
            "needs_background": "light"
          }
        }
      ]
    },
    {
      "cell_type": "markdown",
      "metadata": {
        "id": "4RZfFsLq5wVo"
      },
      "source": [
        "\"Mainstream\" customers are the largest number of customers"
      ]
    },
    {
      "cell_type": "markdown",
      "metadata": {
        "id": "MmfO_BmS55-9"
      },
      "source": [
        "#### Which PREMIUM_CUSTOMER spends the most money?"
      ]
    },
    {
      "cell_type": "code",
      "execution_count": 110,
      "metadata": {
        "colab": {
          "base_uri": "https://localhost:8080/"
        },
        "id": "5TeLoEl96LEU",
        "outputId": "42fb0989-c591-4830-de10-3a593f698b01"
      },
      "outputs": [
        {
          "output_type": "execute_result",
          "data": {
            "text/plain": [
              "PREMIUM_CUSTOMER\n",
              "Mainstream    750744.50\n",
              "Budget        676211.55\n",
              "Premium       506158.95\n",
              "Name: TOT_SALES, dtype: float64"
            ]
          },
          "metadata": {},
          "execution_count": 110
        }
      ],
      "source": [
        "df_prem = df_chips.groupby(\"PREMIUM_CUSTOMER\").sum()['TOT_SALES'].sort_values(ascending=False)\n",
        "df_prem"
      ]
    },
    {
      "cell_type": "code",
      "source": [
        "df_prem_key_list = list(df_prem.keys())\n",
        "\n",
        "fig = plt.figure()\n",
        "ax = fig.add_axes([0,0,1,1])\n",
        "ax.bar(df_prem_key_list,df_prem)\n",
        "plt.title('')\n",
        "plt.xlabel('PREMIUM_CUSTOMER')\n",
        "plt.ylabel('Count')\n",
        "plt.xticks(rotation= 'vertical')\n",
        "plt.show()"
      ],
      "metadata": {
        "colab": {
          "base_uri": "https://localhost:8080/",
          "height": 400
        },
        "id": "KJtEcF-j-2fC",
        "outputId": "2c10484c-1284-4de4-921d-c39e0ab2758d"
      },
      "execution_count": 111,
      "outputs": [
        {
          "output_type": "display_data",
          "data": {
            "text/plain": [
              "<Figure size 432x288 with 1 Axes>"
            ],
            "image/png": "[encoded data removed]"
          },
          "metadata": {
            "needs_background": "light"
          }
        }
      ]
    },
    {
      "cell_type": "markdown",
      "metadata": {
        "id": "MmEdXd0U6VhE"
      },
      "source": [
        "\"Mainstream\" customers spend the most"
      ]
    },
    {
      "cell_type": "markdown",
      "metadata": {
        "id": "-lMOEZrg6vQL"
      },
      "source": [
        "#### What CHIPS does each PREMIUM_CUSTOMER repetitively buy?\n",
        "**Customer Loyalty**"
      ]
    },
    {
      "cell_type": "code",
      "execution_count": 112,
      "metadata": {
        "colab": {
          "base_uri": "https://localhost:8080/"
        },
        "id": "31lVV47863ve",
        "outputId": "52d94d69-4d42-436d-eaff-e8082f68a2a0"
      },
      "outputs": [
        {
          "output_type": "stream",
          "name": "stdout",
          "text": [
            "Premium Customers \n",
            " PROD_NAME\n",
            "Infuzions Thai SweetChili PotatoMix 110g    877\n",
            "Dorito Corn Chp     Supreme 380g            874\n",
            "Cobs Popd Swt/Chlli &Sr/Cream Chips 110g    865\n",
            "Tostitos Splash Of  Lime 175g               864\n",
            "Thins Potato Chips  Hot & Spicy 175g        857\n",
            "Kettle Mozzarella   Basil & Pesto 175g      856\n",
            "Pringles SourCream  Onion 134g              851\n",
            "Kettle Honey Soy    Chicken 175g            849\n",
            "Thins Chips Light&  Tangy 175g              847\n",
            "Kettle 135g Swt Pot Sea Salt                846\n",
            "Name: LYLTY_CARD_NBR, dtype: int64 \n",
            "\n",
            "Mainstream Customers \n",
            " PROD_NAME\n",
            "Kettle Tortilla ChpsHny&Jlpno Chili 150g    1360\n",
            "Tyrrells Crisps     Ched & Chives 165g      1324\n",
            "Kettle 135g Swt Pot Sea Salt                1316\n",
            "Cobs Popd Swt/Chlli &Sr/Cream Chips 110g    1313\n",
            "Smiths Crnkle Chip  Orgnl Big Bag 380g      1309\n",
            "Doritos Corn Chips  Nacho Cheese 170g       1308\n",
            "Doritos Corn Chip Mexican Jalapeno 150g     1305\n",
            "Tostitos Splash Of  Lime 175g               1302\n",
            "Cobs Popd Sea Salt  Chips 110g              1298\n",
            "Smiths Crinkle Chips Salt & Vinegar 330g    1293\n",
            "Name: LYLTY_CARD_NBR, dtype: int64 \n",
            "\n",
            "Budget Customers \n",
            " PROD_NAME\n",
            "Kettle Mozzarella   Basil & Pesto 175g      1166\n",
            "Cobs Popd Sea Salt  Chips 110g              1132\n",
            "Doritos Corn Chip Southern Chicken 150g     1132\n",
            "Kettle Tortilla ChpsHny&Jlpno Chili 150g    1128\n",
            "Doritos Corn Chips  Cheese Supreme 170g     1124\n",
            "Pringles SourCream  Onion 134g              1119\n",
            "Kettle Sweet Chilli And Sour Cream 175g     1117\n",
            "Old El Paso Salsa   Dip Tomato Med 300g     1113\n",
            "Kettle Sea Salt     And Vinegar 175g        1113\n",
            "Thins Chips Light&  Tangy 175g              1111\n",
            "Name: LYLTY_CARD_NBR, dtype: int64 \n",
            "\n"
          ]
        }
      ],
      "source": [
        "for i in df_chips[\"PREMIUM_CUSTOMER\"].unique():\n",
        "  print(i+\" Customers\", \"\\n\", df_chips[df_chips[\"PREMIUM_CUSTOMER\"] == i].groupby(\"PROD_NAME\").count()['LYLTY_CARD_NBR'].sort_values(ascending=False)[:10], \"\\n\")"
      ]
    },
    {
      "cell_type": "markdown",
      "metadata": {
        "id": "i6JYroLz-Rgu"
      },
      "source": [
        "#### What CHIPS does each PREMIUM_CUSTOMER buy the most?"
      ]
    },
    {
      "cell_type": "code",
      "execution_count": 113,
      "metadata": {
        "colab": {
          "base_uri": "https://localhost:8080/"
        },
        "id": "Pz2rLuHn_wCU",
        "outputId": "26de61c7-687e-4cf1-df5e-ed2d88dfee80"
      },
      "outputs": [
        {
          "output_type": "stream",
          "name": "stdout",
          "text": [
            "Premium Customers \n",
            " PROD_NAME\n",
            "Infuzions Thai SweetChili PotatoMix 110g    1685\n",
            "Cobs Popd Swt/Chlli &Sr/Cream Chips 110g    1662\n",
            "Tostitos Splash Of  Lime 175g               1661\n",
            "Dorito Corn Chp     Supreme 380g            1656\n",
            "Kettle Mozzarella   Basil & Pesto 175g      1651\n",
            "Thins Potato Chips  Hot & Spicy 175g        1638\n",
            "Pringles SourCream  Onion 134g              1636\n",
            "Kettle Honey Soy    Chicken 175g            1625\n",
            "Thins Chips Light&  Tangy 175g              1618\n",
            "Pringles Barbeque   134g                    1617\n",
            "Name: PROD_QTY, dtype: int64 \n",
            "\n",
            "Mainstream Customers \n",
            " PROD_NAME\n",
            "Kettle Tortilla ChpsHny&Jlpno Chili 150g    2611\n",
            "Cobs Popd Swt/Chlli &Sr/Cream Chips 110g    2511\n",
            "Cobs Popd Sea Salt  Chips 110g              2502\n",
            "Tyrrells Crisps     Ched & Chives 165g      2499\n",
            "Doritos Corn Chip Mexican Jalapeno 150g     2495\n",
            "Kettle 135g Swt Pot Sea Salt                2493\n",
            "Smiths Crnkle Chip  Orgnl Big Bag 380g      2487\n",
            "Tostitos Splash Of  Lime 175g               2484\n",
            "Doritos Corn Chips  Nacho Cheese 170g       2481\n",
            "Grain Waves         Sweet Chilli 210g       2465\n",
            "Name: PROD_QTY, dtype: int64 \n",
            "\n",
            "Budget Customers \n",
            " PROD_NAME\n",
            "Kettle Mozzarella   Basil & Pesto 175g      2267\n",
            "Doritos Corn Chip Southern Chicken 150g     2182\n",
            "Doritos Corn Chips  Cheese Supreme 170g     2175\n",
            "Cobs Popd Sea Salt  Chips 110g              2174\n",
            "Kettle Tortilla ChpsHny&Jlpno Chili 150g    2168\n",
            "Kettle Sweet Chilli And Sour Cream 175g     2152\n",
            "Smiths Crinkle Chips Salt & Vinegar 330g    2139\n",
            "Pringles SourCream  Onion 134g              2135\n",
            "Kettle Sea Salt     And Vinegar 175g        2132\n",
            "Doritos Cheese      Supreme 330g            2132\n",
            "Name: PROD_QTY, dtype: int64 \n",
            "\n"
          ]
        }
      ],
      "source": [
        "for i in df_chips[\"PREMIUM_CUSTOMER\"].unique():\n",
        "  print(i+\" Customers\", \"\\n\", df_chips[df_chips[\"PREMIUM_CUSTOMER\"] == i].groupby(\"PROD_NAME\").sum()['PROD_QTY'].sort_values(ascending=False)[:10], \"\\n\")"
      ]
    },
    {
      "cell_type": "markdown",
      "metadata": {
        "id": "TSAlgkWPC3M6"
      },
      "source": [
        "For \"Premium\" Customers, you should be advertising \n",
        "\n",
        "1. \"Infuzions Thai SweetChili PotatoMix 110g\"\n",
        "2. \"Cobs Popd Swt/Chlli &Sr/Cream Chips 110g\"\n",
        "3. \"Tostitos Splash Of Lime 175g\"\n",
        "4. \"Dorito Corn Chp Supreme 380g\"\n",
        "5. \"Kettle Mozzarella Basil & Pesto 175g\""
      ]
    },
    {
      "cell_type": "markdown",
      "metadata": {
        "id": "xq1CFDBZD1EP"
      },
      "source": [
        "For \"Mainstream\" Customers, you should be advertising \n",
        "\n",
        "1. \"Kettle Tortilla ChpsHny&Jlpno Chili 150g\"    \n",
        "2. \"Cobs Popd Swt/Chlli &Sr/Cream Chips 110g\"     \n",
        "3. \"Cobs Popd Sea Salt Chips 110g\"    \n",
        "4. \"Tyrrells Crisps Ched & Chives 165g\"     \n",
        "5. \"Doritos Corn Chip Mexican Jalapeno 150g\""
      ]
    },
    {
      "cell_type": "markdown",
      "metadata": {
        "id": "s1IfwmChV5is"
      },
      "source": [
        "For \"Budget\" Customers, you should be advertising   \n",
        " \n",
        "1. \"Kettle Mozzarella Basil & Pesto 175g\"   \n",
        "2. \"Doritos Corn Chip Southern Chicken 150g\"     \n",
        "3. \"Doritos Corn Chips Cheese Supreme 170g\"     \n",
        "4. \"Cobs Popd Sea Salt Chips 110g\"              \n",
        "5. \"Kettle Tortilla ChpsHny&Jlpno Chili 150g\""
      ]
    },
    {
      "cell_type": "markdown",
      "metadata": {
        "id": "Y4O4PYxzAV25"
      },
      "source": [
        "#### What CHIPS does each PREMIUM_CUSTOMER spend a lot of money on?"
      ]
    },
    {
      "cell_type": "code",
      "execution_count": null,
      "metadata": {
        "colab": {
          "base_uri": "https://localhost:8080/"
        },
        "id": "AIicnyj-AdgP",
        "outputId": "04589f0e-22ed-41c8-82ad-16cdc4a1d349"
      },
      "outputs": [
        {
          "name": "stdout",
          "output_type": "stream",
          "text": [
            "Premium Customers \n",
            " PROD_NAME\n",
            "Dorito Corn Chp     Supreme 380g            10617.75\n",
            "Smiths Crnkle Chip  Orgnl Big Bag 380g       9310.20\n",
            "Smiths Crinkle      Original 330g            9171.30\n",
            "Cheezels Cheese 330g                         9125.70\n",
            "Kettle Mozzarella   Basil & Pesto 175g       8915.40\n",
            "Kettle Honey Soy    Chicken 175g             8775.00\n",
            "Kettle Original 175g                         8661.60\n",
            "Smiths Crinkle Chips Salt & Vinegar 330g     8646.90\n",
            "Kettle Sweet Chilli And Sour Cream 175g      8494.20\n",
            "Kettle Chilli 175g                           8440.20\n",
            "Name: TOT_SALES, dtype: float64 \n",
            "\n",
            "Mainstream Customers \n",
            " PROD_NAME\n",
            "Dorito Corn Chp     Supreme 380g            15366.0\n",
            "Smiths Crnkle Chip  Orgnl Big Bag 380g      14673.3\n",
            "Smiths Crinkle Chips Salt & Vinegar 330g    13965.0\n",
            "Cheezels Cheese 330g                        13320.9\n",
            "Kettle Mozzarella   Basil & Pesto 175g      13300.2\n",
            "Smiths Crinkle      Original 330g           13281.0\n",
            "Doritos Cheese      Supreme 330g            13189.8\n",
            "Kettle Honey Soy    Chicken 175g            13073.4\n",
            "Kettle Sweet Chilli And Sour Cream 175g     12916.8\n",
            "Kettle Sea Salt     And Vinegar 175g        12679.2\n",
            "Name: TOT_SALES, dtype: float64 \n",
            "\n",
            "Budget Customers \n",
            " PROD_NAME\n",
            "Dorito Corn Chp     Supreme 380g            13068.25\n",
            "Smiths Crnkle Chip  Orgnl Big Bag 380g      12384.10\n",
            "Kettle Mozzarella   Basil & Pesto 175g      12241.80\n",
            "Smiths Crinkle Chips Salt & Vinegar 330g    12192.30\n",
            "Doritos Cheese      Supreme 330g            12152.40\n",
            "Cheezels Cheese 330g                        11850.30\n",
            "Smiths Crinkle      Original 330g           11850.30\n",
            "Kettle Sweet Chilli And Sour Cream 175g     11620.80\n",
            "Kettle Sea Salt     And Vinegar 175g        11512.80\n",
            "Kettle Original 175g                        11442.60\n",
            "Name: TOT_SALES, dtype: float64 \n",
            "\n"
          ]
        }
      ],
      "source": [
        "for i in df_chips[\"PREMIUM_CUSTOMER\"].unique():\n",
        "  print(i+\" Customers\", \"\\n\", df_chips[df_chips[\"PREMIUM_CUSTOMER\"] == i].groupby(\"PROD_NAME\").sum()['TOT_SALES'].sort_values(ascending=False)[:10], \"\\n\")"
      ]
    },
    {
      "cell_type": "markdown",
      "source": [
        "The products at the top for each PREMIUM_CUSTOMER is due to it's size, bigger products are more expensive and so they pay more for it"
      ],
      "metadata": {
        "id": "-L9ZRyqzv8RK"
      }
    },
    {
      "cell_type": "markdown",
      "source": [
        "#### What BRAND_NAME does each PREMIUM_CUSTOMER buy a large quantity of?"
      ],
      "metadata": {
        "id": "SH6ewbWw4Vhk"
      }
    },
    {
      "cell_type": "code",
      "source": [
        "for i in df_chips[\"PREMIUM_CUSTOMER\"].unique():\n",
        "  print(i+\" Customers\", \"\\n\", df_chips[df_chips[\"PREMIUM_CUSTOMER\"] == i].groupby(\"BRAND_NAME\").sum()['PROD_QTY'].sort_values(ascending=False)[:10], \"\\n\")"
      ],
      "metadata": {
        "colab": {
          "base_uri": "https://localhost:8080/"
        },
        "id": "dPFXeyUK4d8e",
        "outputId": "f53b165e-0df4-40d9-e3c3-66a2e7004449"
      },
      "execution_count": 128,
      "outputs": [
        {
          "output_type": "stream",
          "name": "stdout",
          "text": [
            "Premium Customers \n",
            " BRAND_NAME\n",
            "Kettle       20517\n",
            "Smiths       14512\n",
            "Pringles     12617\n",
            "Doritos      11952\n",
            "Thins         7109\n",
            "RRD           6056\n",
            "Infuzions     5564\n",
            "WW            5370\n",
            "Cobs          4849\n",
            "Tostitos      4802\n",
            "Name: PROD_QTY, dtype: int64 \n",
            "\n",
            "Mainstream Customers \n",
            " BRAND_NAME\n",
            "Kettle       31334\n",
            "Smiths       20379\n",
            "Doritos      18947\n",
            "Pringles     18861\n",
            "Thins        10402\n",
            "Infuzions     8192\n",
            "RRD           8171\n",
            "Cobs          7464\n",
            "Twisties      7206\n",
            "Tostitos      7138\n",
            "Name: PROD_QTY, dtype: int64 \n",
            "\n",
            "Budget Customers \n",
            " BRAND_NAME\n",
            "Kettle       27200\n",
            "Smiths       19839\n",
            "Doritos      16808\n",
            "Pringles     16541\n",
            "Thins         9418\n",
            "RRD           8273\n",
            "Infuzions     7363\n",
            "WW            7318\n",
            "Cobs          6258\n",
            "Twisties      6216\n",
            "Name: PROD_QTY, dtype: int64 \n",
            "\n"
          ]
        }
      ]
    },
    {
      "cell_type": "markdown",
      "source": [
        "For each PREMIUM_CUSTOMER subscription, Kettle, Smiths, Doritos and Pringles are the most desired Brands"
      ],
      "metadata": {
        "id": "UgqUkAfk4yUh"
      }
    },
    {
      "cell_type": "markdown",
      "source": [
        "#### What BRAND_NAME drives the most sales for each PREMIUM_CUSTOMER"
      ],
      "metadata": {
        "id": "DReh1--Q48iJ"
      }
    },
    {
      "cell_type": "code",
      "source": [
        "for i in df_chips[\"PREMIUM_CUSTOMER\"].unique():\n",
        "  print(i+\" Customers\", \"\\n\", df_chips[df_chips[\"PREMIUM_CUSTOMER\"] == i].groupby(\"BRAND_NAME\").sum()['TOT_SALES'].sort_values(ascending=False)[:10], \"\\n\")"
      ],
      "metadata": {
        "colab": {
          "base_uri": "https://localhost:8080/"
        },
        "id": "SXD7zQw245yg",
        "outputId": "b06b6a47-5ee6-4be7-dc6e-9bf03ee7cf75"
      },
      "execution_count": 131,
      "outputs": [
        {
          "output_type": "stream",
          "name": "stdout",
          "text": [
            "Premium Customers \n",
            " BRAND_NAME\n",
            "Kettle       101355.0\n",
            "Smiths        55297.8\n",
            "Doritos       50373.0\n",
            "Pringles      46668.1\n",
            "Thins         23459.7\n",
            "Old           23337.6\n",
            "Tostitos      21128.8\n",
            "Twisties      21123.1\n",
            "Infuzions     20000.2\n",
            "Cobs          18426.2\n",
            "Name: TOT_SALES, dtype: float64 \n",
            "\n",
            "Mainstream Customers \n",
            " BRAND_NAME\n",
            "Kettle       154477.0\n",
            "Doritos       80272.9\n",
            "Smiths        79560.0\n",
            "Pringles      69785.7\n",
            "Old           36148.8\n",
            "Thins         34326.6\n",
            "Twisties      32439.0\n",
            "Tostitos      31407.2\n",
            "Infuzions     29746.4\n",
            "Cobs          28363.2\n",
            "Name: TOT_SALES, dtype: float64 \n",
            "\n",
            "Budget Customers \n",
            " BRAND_NAME\n",
            "Kettle       134407.8\n",
            "Smiths        75219.0\n",
            "Doritos       70893.0\n",
            "Pringles      61201.7\n",
            "Old           31298.7\n",
            "Thins         31066.2\n",
            "Twisties      27960.0\n",
            "Tostitos      27253.6\n",
            "Infuzions     26501.0\n",
            "RRD           23874.6\n",
            "Name: TOT_SALES, dtype: float64 \n",
            "\n",
            "Premium Customers \n",
            " BRAND_NAME\n",
            "Kettle       101355.0\n",
            "Smiths        55297.8\n",
            "Doritos       50373.0\n",
            "Pringles      46668.1\n",
            "Thins         23459.7\n",
            "Old           23337.6\n",
            "Tostitos      21128.8\n",
            "Twisties      21123.1\n",
            "Infuzions     20000.2\n",
            "Cobs          18426.2\n",
            "Name: TOT_SALES, dtype: float64 \n",
            "\n",
            "Mainstream Customers \n",
            " BRAND_NAME\n",
            "Kettle       154477.0\n",
            "Doritos       80272.9\n",
            "Smiths        79560.0\n",
            "Pringles      69785.7\n",
            "Old           36148.8\n",
            "Thins         34326.6\n",
            "Twisties      32439.0\n",
            "Tostitos      31407.2\n",
            "Infuzions     29746.4\n",
            "Cobs          28363.2\n",
            "Name: TOT_SALES, dtype: float64 \n",
            "\n",
            "Budget Customers \n",
            " BRAND_NAME\n",
            "Kettle       134407.8\n",
            "Smiths        75219.0\n",
            "Doritos       70893.0\n",
            "Pringles      61201.7\n",
            "Old           31298.7\n",
            "Thins         31066.2\n",
            "Twisties      27960.0\n",
            "Tostitos      27253.6\n",
            "Infuzions     26501.0\n",
            "RRD           23874.6\n",
            "Name: TOT_SALES, dtype: float64 \n",
            "\n"
          ]
        }
      ]
    },
    {
      "cell_type": "markdown",
      "source": [
        "For each PREMIUM_CUSTOMER subscription, Kettle, Smiths, Doritos and Pringles Brands drive the most sales"
      ],
      "metadata": {
        "id": "Z-Gj2rp389l5"
      }
    },
    {
      "cell_type": "markdown",
      "metadata": {
        "id": "rqw6IpKx87XL"
      },
      "source": [
        "#### What PACKET SIZE does each PREMIUM_CUSTOMER often buy?"
      ]
    },
    {
      "cell_type": "code",
      "execution_count": null,
      "metadata": {
        "colab": {
          "base_uri": "https://localhost:8080/"
        },
        "id": "fxh68ihr9GTG",
        "outputId": "0d563297-e860-4875-a6f1-4c85e6bdfd74"
      },
      "outputs": [
        {
          "name": "stdout",
          "output_type": "stream",
          "text": [
            "Premium Customers \n",
            " PACK_SIZE\n",
            "175    17654\n",
            "150    11334\n",
            "134     6579\n",
            "110     5831\n",
            "170     5106\n",
            "165     4022\n",
            "300     3955\n",
            "330     3204\n",
            "380     1703\n",
            "210     1642\n",
            "Name: LYLTY_CARD_NBR, dtype: int64 \n",
            "\n",
            "Mainstream Customers \n",
            " PACK_SIZE\n",
            "175    25143\n",
            "150    16566\n",
            "134     9903\n",
            "110     8916\n",
            "170     7784\n",
            "300     5866\n",
            "165     5853\n",
            "330     4960\n",
            "380     2562\n",
            "270     2543\n",
            "Name: LYLTY_CARD_NBR, dtype: int64 \n",
            "\n",
            "Budget Customers \n",
            " PACK_SIZE\n",
            "175    23593\n",
            "150    15231\n",
            "134     8620\n",
            "110     7640\n",
            "170     7093\n",
            "165     5422\n",
            "300     5345\n",
            "330     4376\n",
            "380     2151\n",
            "270     2133\n",
            "Name: LYLTY_CARD_NBR, dtype: int64 \n",
            "\n"
          ]
        }
      ],
      "source": [
        "for i in df_chips[\"PREMIUM_CUSTOMER\"].unique():\n",
        "  print(i+\" Customers\", \"\\n\", df_chips[df_chips[\"PREMIUM_CUSTOMER\"] == i].groupby(\"PACK_SIZE\").count()['LYLTY_CARD_NBR'].sort_values(ascending=False)[:10], \"\\n\")"
      ]
    },
    {
      "cell_type": "markdown",
      "metadata": {
        "id": "jQjun1vq-4fj"
      },
      "source": [
        "Every single customer loves to buy the 175g, 150 and 134 pack.\n",
        "\n"
      ]
    },
    {
      "cell_type": "markdown",
      "metadata": {
        "id": "Lt2Yvv7VBXO6"
      },
      "source": [
        "#### What PACKET SIZE does each PREMIUM_CUSTOMER buy in large quantities?"
      ]
    },
    {
      "cell_type": "code",
      "execution_count": null,
      "metadata": {
        "colab": {
          "base_uri": "https://localhost:8080/"
        },
        "id": "PwAF72CYBe_u",
        "outputId": "f7c3f62d-195d-4c51-c8d6-d0b176d16ac5"
      },
      "outputs": [
        {
          "name": "stdout",
          "output_type": "stream",
          "text": [
            "Premium Customers \n",
            " PACK_SIZE\n",
            "175    33673\n",
            "150    21578\n",
            "134    12617\n",
            "110    11165\n",
            "170     9723\n",
            "165     7636\n",
            "300     7510\n",
            "330     6139\n",
            "380     3234\n",
            "210     3135\n",
            "Name: PROD_QTY, dtype: int64 \n",
            "\n",
            "Mainstream Customers \n",
            " PACK_SIZE\n",
            "175    47792\n",
            "150    31523\n",
            "134    18861\n",
            "110    17060\n",
            "170    14792\n",
            "300    11152\n",
            "165    11105\n",
            "330     9431\n",
            "380     4897\n",
            "270     4844\n",
            "Name: PROD_QTY, dtype: int64 \n",
            "\n",
            "Budget Customers \n",
            " PACK_SIZE\n",
            "175    45002\n",
            "150    29073\n",
            "134    16541\n",
            "110    14610\n",
            "170    13573\n",
            "165    10310\n",
            "300    10151\n",
            "330     8429\n",
            "380     4142\n",
            "270     4104\n",
            "Name: PROD_QTY, dtype: int64 \n",
            "\n"
          ]
        }
      ],
      "source": [
        "for i in df_chips[\"PREMIUM_CUSTOMER\"].unique():\n",
        "  print(i+\" Customers\", \"\\n\", df_chips[df_chips[\"PREMIUM_CUSTOMER\"] == i].groupby(\"PACK_SIZE\").sum()['PROD_QTY'].sort_values(ascending=False)[:10], \"\\n\")"
      ]
    },
    {
      "cell_type": "markdown",
      "metadata": {
        "id": "Bw_DPZbrBtIL"
      },
      "source": [
        "175g is the pack mostly bought by customers, "
      ]
    },
    {
      "cell_type": "markdown",
      "metadata": {
        "id": "Kq7xANAZW1lE"
      },
      "source": [
        "#### What PACKET SIZE does each PREMIUM_CUSTOMER spend the most money on?"
      ]
    },
    {
      "cell_type": "code",
      "execution_count": 133,
      "metadata": {
        "colab": {
          "base_uri": "https://localhost:8080/"
        },
        "id": "iTJak8OOW5eB",
        "outputId": "96c19c56-3e68-4907-f6a9-8bc971f81079"
      },
      "outputs": [
        {
          "output_type": "stream",
          "name": "stdout",
          "text": [
            "Premium Customers \n",
            " PACK_SIZE\n",
            "175    128855.30\n",
            "150     79349.10\n",
            "134     46668.10\n",
            "110     42419.40\n",
            "170     37246.20\n",
            "330     34992.30\n",
            "300     29259.90\n",
            "165     26583.60\n",
            "380     19927.95\n",
            "270     14264.60\n",
            "Name: TOT_SALES, dtype: float64 \n",
            "\n",
            "Mainstream Customers \n",
            " PACK_SIZE\n",
            "175    185230.2\n",
            "150    118272.7\n",
            "134     69785.7\n",
            "110     64828.0\n",
            "170     57523.3\n",
            "330     53756.7\n",
            "300     44492.0\n",
            "165     38988.6\n",
            "380     30039.3\n",
            "270     22282.4\n",
            "Name: TOT_SALES, dtype: float64 \n",
            "\n",
            "Budget Customers \n",
            " PACK_SIZE\n",
            "175    171351.90\n",
            "150    106666.70\n",
            "134     61201.70\n",
            "110     55518.00\n",
            "170     51903.50\n",
            "330     48045.30\n",
            "300     39578.70\n",
            "165     35788.40\n",
            "380     25452.35\n",
            "270     18878.40\n",
            "Name: TOT_SALES, dtype: float64 \n",
            "\n"
          ]
        }
      ],
      "source": [
        "for i in df_chips[\"PREMIUM_CUSTOMER\"].unique():\n",
        "  print(i+\" Customers\", \"\\n\", df_chips[df_chips[\"PREMIUM_CUSTOMER\"] == i].groupby(\"PACK_SIZE\").sum()['TOT_SALES'].sort_values(ascending=False)[:10], \"\\n\")"
      ]
    },
    {
      "cell_type": "markdown",
      "source": [
        "175g, 150g and 134g PACK_SIZE drive the most sales"
      ],
      "metadata": {
        "id": "1UEymJhB9YBW"
      }
    },
    {
      "cell_type": "markdown",
      "metadata": {
        "id": "VRWLcR6i4bHe"
      },
      "source": [
        "### CHIPS"
      ]
    },
    {
      "cell_type": "markdown",
      "metadata": {
        "id": "IYr2N-PsWONA"
      },
      "source": [
        "#### What are the top 10 chips sold across all the stores and their quantity sold?"
      ]
    },
    {
      "cell_type": "code",
      "execution_count": 136,
      "metadata": {
        "id": "viff0tquox9y",
        "colab": {
          "base_uri": "https://localhost:8080/"
        },
        "outputId": "c1e6cf16-1847-4829-ce34-fc48efbeb9ca"
      },
      "outputs": [
        {
          "output_type": "execute_result",
          "data": {
            "text/plain": [
              "PROD_NAME\n",
              "Kettle Mozzarella   Basil & Pesto 175g      6381\n",
              "Kettle Tortilla ChpsHny&Jlpno Chili 150g    6309\n",
              "Cobs Popd Sea Salt  Chips 110g              6277\n",
              "Cobs Popd Swt/Chlli &Sr/Cream Chips 110g    6256\n",
              "Tostitos Splash Of  Lime 175g               6234\n",
              "Tyrrells Crisps     Ched & Chives 165g      6227\n",
              "Kettle 135g Swt Pot Sea Salt                6212\n",
              "Infuzions Thai SweetChili PotatoMix 110g    6206\n",
              "Thins Potato Chips  Hot & Spicy 175g        6185\n",
              "Doritos Corn Chips  Cheese Supreme 170g     6180\n",
              "Name: PROD_QTY, dtype: int64"
            ]
          },
          "metadata": {},
          "execution_count": 136
        }
      ],
      "source": [
        "popular_chip = df_chips.groupby(\"PROD_NAME\").sum()['PROD_QTY'].sort_values(ascending=False)\n",
        "popular_chip[:10]"
      ]
    },
    {
      "cell_type": "markdown",
      "source": [
        "#### What customer segments drives the demand of the top CHIP product, \"Kettle Mozzarella   Basil & Pesto 175g\""
      ],
      "metadata": {
        "id": "XMfLJ7TO-6kM"
      }
    },
    {
      "cell_type": "code",
      "source": [
        "df_top_chp = df_chips[df_chips[\"PROD_NAME\"] == \"Kettle Mozzarella   Basil & Pesto 175g\"]\n",
        "top_chp = df_top_chp.groupby(\"LIFESTAGE\").sum()[\"PROD_QTY\"].sort_values(ascending = False)\n",
        "top_chp"
      ],
      "metadata": {
        "colab": {
          "base_uri": "https://localhost:8080/"
        },
        "id": "OhPcvJOwC6uE",
        "outputId": "50b1f51c-22e1-4a25-d574-b6a1c94207a3"
      },
      "execution_count": 164,
      "outputs": [
        {
          "output_type": "execute_result",
          "data": {
            "text/plain": [
              "LIFESTAGE\n",
              "OLDER SINGLES/COUPLES     1294\n",
              "RETIREES                  1284\n",
              "OLDER FAMILIES            1089\n",
              "YOUNG SINGLES/COUPLES      956\n",
              "YOUNG FAMILIES             949\n",
              "MIDAGE SINGLES/COUPLES     627\n",
              "NEW FAMILIES               182\n",
              "Name: PROD_QTY, dtype: int64"
            ]
          },
          "metadata": {},
          "execution_count": 164
        }
      ]
    },
    {
      "cell_type": "code",
      "source": [
        "fig = plt.figure()\n",
        "ax = fig.add_axes([0,0,1,1])\n",
        "ax.bar(list(top_chp.keys()),top_chp)\n",
        "plt.title('')\n",
        "plt.xlabel('LIFESTAGE')\n",
        "plt.ylabel('Quantity')\n",
        "plt.xticks(rotation= 'vertical')\n",
        "plt.show()"
      ],
      "metadata": {
        "colab": {
          "base_uri": "https://localhost:8080/",
          "height": 475
        },
        "id": "dPrtwqp3Cwd3",
        "outputId": "ff645403-03fc-464f-eeb6-92b7c8e8e440"
      },
      "execution_count": 165,
      "outputs": [
        {
          "output_type": "display_data",
          "data": {
            "text/plain": [
              "<Figure size 432x288 with 1 Axes>"
            ],
            "image/png": "[encoded data removed]"
          },
          "metadata": {
            "needs_background": "light"
          }
        }
      ]
    },
    {
      "cell_type": "markdown",
      "source": [
        "#### Distribution of the TOP CHIP demand across the LIFESTAGE"
      ],
      "metadata": {
        "id": "Co1Z4StrE3TA"
      }
    },
    {
      "cell_type": "code",
      "source": [
        "# General distribution of customers across the LIFESTAGE and PREMIUM_CUSTOMER\n",
        "sns.histplot(data=df_p, x=\"LIFESTAGE\", hue=\"PREMIUM_CUSTOMER\", multiple=\"dodge\", shrink=.8)\n",
        "plt.xticks(rotation= 'vertical')"
      ],
      "metadata": {
        "colab": {
          "base_uri": "https://localhost:8080/",
          "height": 421
        },
        "id": "-9lvssCYZm6W",
        "outputId": "4a190f0d-45d6-492d-9c69-45a9e5850a0c"
      },
      "execution_count": 192,
      "outputs": [
        {
          "output_type": "execute_result",
          "data": {
            "text/plain": [
              "([0, 1, 2, 3, 4, 5, 6], <a list of 7 Text major ticklabel objects>)"
            ]
          },
          "metadata": {},
          "execution_count": 192
        },
        {
          "output_type": "display_data",
          "data": {
            "text/plain": [
              "<Figure size 432x288 with 1 Axes>"
            ],
            "image/png": "[encoded data removed]"
          },
          "metadata": {
            "needs_background": "light"
          }
        }
      ]
    },
    {
      "cell_type": "markdown",
      "source": [
        "Comparing the 2 distributions:\n",
        "\n",
        "YOUNG SINGLES/COUPLES with the \"Mainstream\" subscription constitute the major demand because they have a lot of disposable income and also because they are the highest number of subscribers\n",
        "\n",
        "Followed by OLDER FAMILIES with the \"Budget\" Subscription, this demand is driven by their children and also because the \"Budget\" subscription has the highest number of subscribers in the OLDER FAMILIES LIFESTAGE\n",
        "\n",
        "Followed by RETIREES with \"Mainstream\" subscription who have a steady flow of income from their pension and are the 2nd highest number of subscribers"
      ],
      "metadata": {
        "id": "P4aKZ99RFqDJ"
      }
    },
    {
      "cell_type": "code",
      "source": [
        "sns.histplot(data=df_top_chp, x=\"LIFESTAGE\", hue=\"PREMIUM_CUSTOMER\", multiple=\"dodge\", shrink=.8)\n",
        "plt.xticks(rotation= 'vertical')"
      ],
      "metadata": {
        "colab": {
          "base_uri": "https://localhost:8080/",
          "height": 421
        },
        "id": "mkDqjUO2CXts",
        "outputId": "284c7baf-de1d-4bac-b572-38fb6fb1b119"
      },
      "execution_count": 191,
      "outputs": [
        {
          "output_type": "execute_result",
          "data": {
            "text/plain": [
              "([0, 1, 2, 3, 4, 5, 6], <a list of 7 Text major ticklabel objects>)"
            ]
          },
          "metadata": {},
          "execution_count": 191
        },
        {
          "output_type": "display_data",
          "data": {
            "text/plain": [
              "<Figure size 432x288 with 1 Axes>"
            ],
            "image/png": "[encoded data removed]"
          },
          "metadata": {
            "needs_background": "light"
          }
        }
      ]
    },
    {
      "cell_type": "markdown",
      "metadata": {
        "id": "-wM_RMbSqMTq"
      },
      "source": [
        "#### What are the top 10 chips with the highest sales and their total in sales?"
      ]
    },
    {
      "cell_type": "code",
      "execution_count": 138,
      "metadata": {
        "id": "BS4N0jrmpndC",
        "colab": {
          "base_uri": "https://localhost:8080/"
        },
        "outputId": "66624439-ff5e-4dc6-bdb0-daa2dbb7c2a4"
      },
      "outputs": [
        {
          "output_type": "execute_result",
          "data": {
            "text/plain": [
              "PROD_NAME\n",
              "Dorito Corn Chp     Supreme 380g            39052.0\n",
              "Smiths Crnkle Chip  Orgnl Big Bag 380g      36367.6\n",
              "Smiths Crinkle Chips Salt & Vinegar 330g    34804.2\n",
              "Kettle Mozzarella   Basil & Pesto 175g      34457.4\n",
              "Smiths Crinkle      Original 330g           34302.6\n",
              "Name: TOT_SALES, dtype: float64"
            ]
          },
          "metadata": {},
          "execution_count": 138
        }
      ],
      "source": [
        "popular_chip_2 = df_chips.groupby(\"PROD_NAME\").sum()['TOT_SALES'].sort_values(ascending=False)[:10]\n",
        "popular_chip_2.head()"
      ]
    },
    {
      "cell_type": "markdown",
      "metadata": {
        "id": "yJ03EYkpKnSv"
      },
      "source": [
        "#### What Lifestage mostly bought the top 10 Chips based on total in sales?"
      ]
    },
    {
      "cell_type": "code",
      "execution_count": 194,
      "metadata": {
        "id": "nV3EI0XQLlm_",
        "colab": {
          "base_uri": "https://localhost:8080/"
        },
        "outputId": "68f2faec-e4b5-4c55-caea-46b2c91fdd8a"
      },
      "outputs": [
        {
          "output_type": "execute_result",
          "data": {
            "text/plain": [
              "['Dorito Corn Chp     Supreme 380g',\n",
              " 'Smiths Crnkle Chip  Orgnl Big Bag 380g',\n",
              " 'Smiths Crinkle Chips Salt & Vinegar 330g',\n",
              " 'Kettle Mozzarella   Basil & Pesto 175g',\n",
              " 'Smiths Crinkle      Original 330g',\n",
              " 'Cheezels Cheese 330g',\n",
              " 'Doritos Cheese      Supreme 330g',\n",
              " 'Kettle Sweet Chilli And Sour Cream 175g',\n",
              " 'Kettle Original 175g',\n",
              " 'Kettle Sea Salt     And Vinegar 175g']"
            ]
          },
          "metadata": {},
          "execution_count": 194
        }
      ],
      "source": [
        "# A list of the keys which are the names of the top 10 products\n",
        "key_list = list(popular_chip_2[:10].keys())\n",
        "key_list"
      ]
    },
    {
      "cell_type": "code",
      "execution_count": 196,
      "metadata": {
        "id": "83vAnpcoK_V5",
        "colab": {
          "base_uri": "https://localhost:8080/"
        },
        "outputId": "c3bc4292-4e5d-44c8-a896-06411ec8c0ce"
      },
      "outputs": [
        {
          "output_type": "stream",
          "name": "stdout",
          "text": [
            "Dorito Corn Chp     Supreme 380g \n",
            " LIFESTAGE\n",
            "OLDER SINGLES/COUPLES     684\n",
            "RETIREES                  619\n",
            "OLDER FAMILIES            533\n",
            "YOUNG FAMILIES            484\n",
            "YOUNG SINGLES/COUPLES     472\n",
            "MIDAGE SINGLES/COUPLES    300\n",
            "NEW FAMILIES               91\n",
            "Name: LYLTY_CARD_NBR, dtype: int64 \n",
            "\n",
            "Smiths Crnkle Chip  Orgnl Big Bag 380g \n",
            " LIFESTAGE\n",
            "OLDER SINGLES/COUPLES     672\n",
            "RETIREES                  622\n",
            "OLDER FAMILIES            539\n",
            "YOUNG FAMILIES            495\n",
            "YOUNG SINGLES/COUPLES     483\n",
            "MIDAGE SINGLES/COUPLES    328\n",
            "NEW FAMILIES               94\n",
            "Name: LYLTY_CARD_NBR, dtype: int64 \n",
            "\n",
            "Smiths Crinkle Chips Salt & Vinegar 330g \n",
            " LIFESTAGE\n",
            "OLDER SINGLES/COUPLES     651\n",
            "RETIREES                  604\n",
            "OLDER FAMILIES            589\n",
            "YOUNG FAMILIES            502\n",
            "YOUNG SINGLES/COUPLES     465\n",
            "MIDAGE SINGLES/COUPLES    314\n",
            "NEW FAMILIES               72\n",
            "Name: LYLTY_CARD_NBR, dtype: int64 \n",
            "\n",
            "Kettle Mozzarella   Basil & Pesto 175g \n",
            " LIFESTAGE\n",
            "RETIREES                  669\n",
            "OLDER SINGLES/COUPLES     665\n",
            "OLDER FAMILIES            550\n",
            "YOUNG SINGLES/COUPLES     508\n",
            "YOUNG FAMILIES            488\n",
            "MIDAGE SINGLES/COUPLES    326\n",
            "NEW FAMILIES               98\n",
            "Name: LYLTY_CARD_NBR, dtype: int64 \n",
            "\n",
            "Smiths Crinkle      Original 330g \n",
            " LIFESTAGE\n",
            "OLDER SINGLES/COUPLES     656\n",
            "RETIREES                  618\n",
            "OLDER FAMILIES            566\n",
            "YOUNG FAMILIES            477\n",
            "YOUNG SINGLES/COUPLES     444\n",
            "MIDAGE SINGLES/COUPLES    296\n",
            "NEW FAMILIES               85\n",
            "Name: LYLTY_CARD_NBR, dtype: int64 \n",
            "\n",
            "Cheezels Cheese 330g \n",
            " LIFESTAGE\n",
            "OLDER SINGLES/COUPLES     660\n",
            "RETIREES                  611\n",
            "OLDER FAMILIES            516\n",
            "YOUNG FAMILIES            514\n",
            "YOUNG SINGLES/COUPLES     437\n",
            "MIDAGE SINGLES/COUPLES    335\n",
            "NEW FAMILIES               76\n",
            "Name: LYLTY_CARD_NBR, dtype: int64 \n",
            "\n",
            "Doritos Cheese      Supreme 330g \n",
            " LIFESTAGE\n",
            "OLDER SINGLES/COUPLES     632\n",
            "RETIREES                  606\n",
            "OLDER FAMILIES            534\n",
            "YOUNG FAMILIES            462\n",
            "YOUNG SINGLES/COUPLES     457\n",
            "MIDAGE SINGLES/COUPLES    275\n",
            "NEW FAMILIES               86\n",
            "Name: LYLTY_CARD_NBR, dtype: int64 \n",
            "\n",
            "Kettle Sweet Chilli And Sour Cream 175g \n",
            " LIFESTAGE\n",
            "OLDER SINGLES/COUPLES     658\n",
            "RETIREES                  652\n",
            "OLDER FAMILIES            542\n",
            "YOUNG SINGLES/COUPLES     464\n",
            "YOUNG FAMILIES            461\n",
            "MIDAGE SINGLES/COUPLES    332\n",
            "NEW FAMILIES               91\n",
            "Name: LYLTY_CARD_NBR, dtype: int64 \n",
            "\n",
            "Kettle Original 175g \n",
            " LIFESTAGE\n",
            "OLDER SINGLES/COUPLES     647\n",
            "RETIREES                  636\n",
            "YOUNG FAMILIES            534\n",
            "OLDER FAMILIES            495\n",
            "YOUNG SINGLES/COUPLES     446\n",
            "MIDAGE SINGLES/COUPLES    311\n",
            "NEW FAMILIES               90\n",
            "Name: LYLTY_CARD_NBR, dtype: int64 \n",
            "\n",
            "Kettle Sea Salt     And Vinegar 175g \n",
            " LIFESTAGE\n",
            "OLDER SINGLES/COUPLES     679\n",
            "RETIREES                  596\n",
            "OLDER FAMILIES            531\n",
            "YOUNG FAMILIES            506\n",
            "YOUNG SINGLES/COUPLES     444\n",
            "MIDAGE SINGLES/COUPLES    330\n",
            "NEW FAMILIES               87\n",
            "Name: LYLTY_CARD_NBR, dtype: int64 \n",
            "\n"
          ]
        }
      ],
      "source": [
        "for i in key_list:\n",
        "  print(i, \"\\n\", df_chips[df_chips[\"PROD_NAME\"]==i].groupby(\"LIFESTAGE\").count()['LYLTY_CARD_NBR'].sort_values(ascending = False), \"\\n\")\n"
      ]
    },
    {
      "cell_type": "markdown",
      "metadata": {
        "id": "nG7bq-KsNNtu"
      },
      "source": [
        "\"Older Singles/Couples\", \"Retirees\" and \"Older Families\" are the top 3 purchasers of the top 10 chips except for \"Kettle Original 175g\" where you the top 3 are \"Older Singles/Couples\", \"Retirees\" and \"YOUNG FAMILIES\" respectively"
      ]
    },
    {
      "cell_type": "markdown",
      "source": [
        "### STORES"
      ],
      "metadata": {
        "id": "cBQuq6Z7cvWq"
      }
    },
    {
      "cell_type": "markdown",
      "metadata": {
        "id": "mcGXUvuvqrUq"
      },
      "source": [
        "#### What are the top 10 stores with the highest sales in chips and their total in sales?"
      ]
    },
    {
      "cell_type": "code",
      "execution_count": null,
      "metadata": {
        "id": "7iqlEOWNqljb"
      },
      "outputs": [],
      "source": [
        "df_chips.groupby(\"STORE_NBR\").sum()['TOT_SALES'].sort_values(ascending=False)[:10]"
      ]
    },
    {
      "cell_type": "markdown",
      "metadata": {
        "id": "t5CpGhwJq7K4"
      },
      "source": [
        "#### What are the top 10 stores with the highest number of chips sold?"
      ]
    },
    {
      "cell_type": "code",
      "execution_count": 193,
      "metadata": {
        "id": "fKBf1DZnrCF7",
        "colab": {
          "base_uri": "https://localhost:8080/"
        },
        "outputId": "33a58f29-58d1-440c-ad78-229598889fe6"
      },
      "outputs": [
        {
          "output_type": "execute_result",
          "data": {
            "text/plain": [
              "STORE_NBR\n",
              "226    4001\n",
              "88     3718\n",
              "93     3639\n",
              "165    3602\n",
              "43     3519\n",
              "237    3515\n",
              "40     3499\n",
              "230    3476\n",
              "213    3470\n",
              "58     3463\n",
              "Name: PROD_QTY, dtype: int64"
            ]
          },
          "metadata": {},
          "execution_count": 193
        }
      ],
      "source": [
        "df_chips.groupby(\"STORE_NBR\").sum()['PROD_QTY'].sort_values(ascending=False)[:10]"
      ]
    },
    {
      "cell_type": "markdown",
      "source": [
        "### DAYS"
      ],
      "metadata": {
        "id": "7tkTiBn1c4_9"
      }
    },
    {
      "cell_type": "markdown",
      "metadata": {
        "id": "TRaNSSidrdpB"
      },
      "source": [
        "#### Which days sold the highest number of Chips?"
      ]
    },
    {
      "cell_type": "code",
      "execution_count": null,
      "metadata": {
        "id": "BVht28ODrplu"
      },
      "outputs": [],
      "source": [
        "df_chips.groupby(\"DATE\").sum()['PROD_QTY'].sort_values(ascending=False)[:10]"
      ]
    },
    {
      "cell_type": "markdown",
      "metadata": {
        "id": "LUsCsK4Irxge"
      },
      "source": [
        "#### What are the top 10 Days with the highest total in sales of Chips?"
      ]
    },
    {
      "cell_type": "code",
      "execution_count": null,
      "metadata": {
        "id": "bt0wGiJhr1Ku"
      },
      "outputs": [],
      "source": [
        "df_chips.groupby(\"DATE\").sum()['TOT_SALES'].sort_values(ascending=False)[:10]"
      ]
    }
  ],
  "metadata": {
    "colab": {
      "name": "Quantium_Data_Analysis.ipynb",
      "provenance": [],
      "collapsed_sections": [
        "QVddA6-V8W_y",
        "RVAb-IY_RXR0",
        "oUViHJsFRRNR",
        "I0IakFlZHqlJ",
        "K5JUeuPfWYrx",
        "RyS7vsmuMtMO",
        "mKROVXXnNLwk",
        "pV-rIqcMWcfl",
        "il5KEJ0HXJZc",
        "Vj_NnKGn0pSv",
        "TlClVtJP2vij",
        "sTzH09EFWfTl",
        "dQ0_dR05Ry5S",
        "VZADFYXon3TA",
        "dDx8cy9O9rzh",
        "7jsj-X_h9ve9",
        "SySTIU6x43KL",
        "MmfO_BmS55-9",
        "-lMOEZrg6vQL",
        "i6JYroLz-Rgu",
        "Y4O4PYxzAV25",
        "SH6ewbWw4Vhk",
        "DReh1--Q48iJ",
        "rqw6IpKx87XL",
        "Lt2Yvv7VBXO6",
        "Kq7xANAZW1lE",
        "ivnVPOxHEKIA",
        "4-v6FmDH4rCt",
        "IYr2N-PsWONA",
        "XMfLJ7TO-6kM",
        "-wM_RMbSqMTq",
        "mcGXUvuvqrUq",
        "t5CpGhwJq7K4",
        "TRaNSSidrdpB",
        "LUsCsK4Irxge",
        "yJ03EYkpKnSv",
        "zS6heSedPK59",
        "J1NPY5aOPPjn",
        "xp3R00DhQWjp",
        "d5EcajU__PKk"
      ]
    },
    "kernelspec": {
      "display_name": "Python 3",
      "name": "python3"
    },
    "language_info": {
      "name": "python"
    }
  },
  "nbformat": 4,
  "nbformat_minor": 0
}